{
 "cells": [
  {
   "cell_type": "code",
   "execution_count": 8,
   "metadata": {
    "colab": {},
    "colab_type": "code",
    "id": "Bjd0vL4_FH29"
   },
   "outputs": [],
   "source": [
    "import pandas as pd\n",
    "import numpy as np\n",
    "import matplotlib.pyplot as plt\n",
    "import xgboost as xgb\n",
    "%matplotlib inline"
   ]
  },
  {
   "cell_type": "code",
   "execution_count": 3,
   "metadata": {
    "colab": {
     "base_uri": "https://localhost:8080/",
     "height": 837
    },
    "colab_type": "code",
    "id": "CXOoRpBzFeNi",
    "outputId": "4bc3321a-22b5-48ee-b57e-041bc41832a0"
   },
   "outputs": [
    {
     "data": {
      "text/plain": [
       "(1306122, 3)"
      ]
     },
     "execution_count": 3,
     "metadata": {},
     "output_type": "execute_result"
    }
   ],
   "source": [
    "train = pd.read_csv(\"train.csv\")\n",
    "test = pd.read_csv(\"test.csv\")\n",
    "train.head(25)\n",
    "train.shape"
   ]
  },
  {
   "cell_type": "code",
   "execution_count": 4,
   "metadata": {
    "colab": {
     "base_uri": "https://localhost:8080/",
     "height": 212
    },
    "colab_type": "code",
    "id": "Cet2gJBtF-Yo",
    "outputId": "ee12c39d-7813-46cd-ce10-86e44495debe"
   },
   "outputs": [
    {
     "data": {
      "text/html": [
       "<div>\n",
       "<style scoped>\n",
       "    .dataframe tbody tr th:only-of-type {\n",
       "        vertical-align: middle;\n",
       "    }\n",
       "\n",
       "    .dataframe tbody tr th {\n",
       "        vertical-align: top;\n",
       "    }\n",
       "\n",
       "    .dataframe thead th {\n",
       "        text-align: right;\n",
       "    }\n",
       "</style>\n",
       "<table border=\"1\" class=\"dataframe\">\n",
       "  <thead>\n",
       "    <tr style=\"text-align: right;\">\n",
       "      <th></th>\n",
       "      <th>qid</th>\n",
       "      <th>question_text</th>\n",
       "      <th>target</th>\n",
       "      <th>period_count</th>\n",
       "      <th>word_length</th>\n",
       "      <th>char_length</th>\n",
       "    </tr>\n",
       "  </thead>\n",
       "  <tbody>\n",
       "    <tr>\n",
       "      <th>0</th>\n",
       "      <td>00002165364db923c7e6</td>\n",
       "      <td>How did Quebec nationalists see their province...</td>\n",
       "      <td>0</td>\n",
       "      <td>0</td>\n",
       "      <td>13</td>\n",
       "      <td>72</td>\n",
       "    </tr>\n",
       "    <tr>\n",
       "      <th>1</th>\n",
       "      <td>000032939017120e6e44</td>\n",
       "      <td>Do you have an adopted dog, how would you enco...</td>\n",
       "      <td>0</td>\n",
       "      <td>0</td>\n",
       "      <td>16</td>\n",
       "      <td>81</td>\n",
       "    </tr>\n",
       "    <tr>\n",
       "      <th>2</th>\n",
       "      <td>0000412ca6e4628ce2cf</td>\n",
       "      <td>Why does velocity affect time? Does velocity a...</td>\n",
       "      <td>0</td>\n",
       "      <td>0</td>\n",
       "      <td>10</td>\n",
       "      <td>67</td>\n",
       "    </tr>\n",
       "    <tr>\n",
       "      <th>3</th>\n",
       "      <td>000042bf85aa498cd78e</td>\n",
       "      <td>How did Otto von Guericke used the Magdeburg h...</td>\n",
       "      <td>0</td>\n",
       "      <td>0</td>\n",
       "      <td>9</td>\n",
       "      <td>57</td>\n",
       "    </tr>\n",
       "    <tr>\n",
       "      <th>4</th>\n",
       "      <td>0000455dfa3e01eae3af</td>\n",
       "      <td>Can I convert montra helicon D to a mountain b...</td>\n",
       "      <td>0</td>\n",
       "      <td>0</td>\n",
       "      <td>15</td>\n",
       "      <td>77</td>\n",
       "    </tr>\n",
       "  </tbody>\n",
       "</table>\n",
       "</div>"
      ],
      "text/plain": [
       "                    qid                                      question_text  \\\n",
       "0  00002165364db923c7e6  How did Quebec nationalists see their province...   \n",
       "1  000032939017120e6e44  Do you have an adopted dog, how would you enco...   \n",
       "2  0000412ca6e4628ce2cf  Why does velocity affect time? Does velocity a...   \n",
       "3  000042bf85aa498cd78e  How did Otto von Guericke used the Magdeburg h...   \n",
       "4  0000455dfa3e01eae3af  Can I convert montra helicon D to a mountain b...   \n",
       "\n",
       "   target  period_count  word_length  char_length  \n",
       "0       0             0           13           72  \n",
       "1       0             0           16           81  \n",
       "2       0             0           10           67  \n",
       "3       0             0            9           57  \n",
       "4       0             0           15           77  "
      ]
     },
     "execution_count": 4,
     "metadata": {},
     "output_type": "execute_result"
    }
   ],
   "source": [
    "train['period_count'] = train['question_text'].apply(lambda x: x.count(\".\"))\n",
    "train['word_length'] = train['question_text'].apply(lambda x: len(x.split(\" \")))\n",
    "train['char_length'] = train['question_text'].apply(lambda x: len(x))\n",
    "train.head()"
   ]
  },
  {
   "cell_type": "code",
   "execution_count": 5,
   "metadata": {
    "colab": {},
    "colab_type": "code",
    "id": "LhM9D-naJihG"
   },
   "outputs": [],
   "source": [
    "import collections\n",
    "import statistics\n",
    "import re\n",
    "\n",
    "\n",
    "def train_score(train1):\n",
    "  train1['word'] = train1['question_text'].apply(lambda x: [re.sub('[^A-Za-z0-9]+', '', i) for i in x.split(\" \")])\n",
    "  bad_word_dict=collections.Counter([y for x in train1['word'][train1['target']==1] for y in x])\n",
    "  good_word_dict=collections.Counter([y for x in train1['word'][train1['target']==0] for y in x])\n",
    "  total_word_dict=collections.Counter([y for x in train1['word'] for y in x])\n",
    "  for i in total_word_dict:\n",
    "      if i not in bad_word_dict:\n",
    "          bad_word_dict[i] = -1\n",
    "      if i not in good_word_dict:    \n",
    "          good_word_dict[i] = 2\n",
    "  raw_word_score = {i: (bad_word_dict[i]*good_word_dict[i])/\n",
    "                    (total_word_dict[i]) for i in total_word_dict}\n",
    "  raw_word_score_2 = {i: (bad_word_dict[i]-good_word_dict[i])/\n",
    "                    (total_word_dict[i]) for i in total_word_dict}\n",
    "  mean_score = statistics.mean(list(raw_word_score.values()))\n",
    "  stdev = statistics.stdev(list(raw_word_score.values()))\n",
    "\n",
    "  mean_score_2 = statistics.mean(list(raw_word_score_2.values()))\n",
    "  stdev_2 = statistics.stdev(list(raw_word_score_2.values()))\n",
    "  standard_word_score = {i : (raw_word_score[i]-mean_score)/stdev for i in raw_word_score}\n",
    "  standard_word_score_2 = {i : (raw_word_score_2[i]-mean_score_2)/stdev_2 for i in raw_word_score_2}\n",
    "  train1['score_1'] = train1['word'].apply(lambda x: sum([standard_word_score[i] for i in x]))\n",
    "  train1['score_2'] = train1['word'].apply(lambda x: sum([standard_word_score_2[i] for i in x]))\n",
    "  return train1.drop(columns = [\"question_text\",\"word\",\"target\"]),standard_word_score,standard_word_score_2\n",
    "\n",
    "\n",
    "def test_score(test1,standard_word_score,standard_word_score_2):\n",
    "  avg_1 = statistics.mean(list(standard_word_score.values()))\n",
    "  avg_2 = statistics.mean(list(standard_word_score_2.values()))\n",
    "  test1['word'] = test1['question_text'].apply(lambda x: [re.sub('[^A-Za-z0-9]+', '', i) for i in x.split(\" \")])\n",
    "  test1['score_1'] = test1['word'].apply(lambda x: sum([standard_word_score[i] if i in standard_word_score else avg_1 for i in x ]))\n",
    "  test1['score_2'] = test1['word'].apply(lambda x: sum([standard_word_score_2[i] if i in standard_word_score_2 else avg_2 for i in x ]))\n",
    "  return test1.drop(columns = [\"question_text\",\"word\",\"target\"])"
   ]
  },
  {
   "cell_type": "code",
   "execution_count": 0,
   "metadata": {
    "colab": {},
    "colab_type": "code",
    "id": "NBJEyxhwLIMn"
   },
   "outputs": [],
   "source": [
    "train[train.target==1].score_1.hist(bins=400)\n",
    "train[train.target==1].score_1.mean()\n",
    "train[train.target==0].score_1.hist(bins=400)\n",
    "train[train.target==0].score_1.mean()\n"
   ]
  },
  {
   "cell_type": "code",
   "execution_count": 75,
   "metadata": {
    "colab": {
     "base_uri": "https://localhost:8080/",
     "height": 615
    },
    "colab_type": "code",
    "id": "5BiELFC2NNzK",
    "outputId": "b5d7f4b4-41b7-4e52-c016-79654db9db80"
   },
   "outputs": [
    {
     "name": "stderr",
     "output_type": "stream",
     "text": [
      "/Users/royluo/anaconda3/lib/python3.6/site-packages/ipykernel_launcher.py:7: SettingWithCopyWarning: \n",
      "A value is trying to be set on a copy of a slice from a DataFrame.\n",
      "Try using .loc[row_indexer,col_indexer] = value instead\n",
      "\n",
      "See the caveats in the documentation: http://pandas.pydata.org/pandas-docs/stable/indexing.html#indexing-view-versus-copy\n",
      "  import sys\n",
      "/Users/royluo/anaconda3/lib/python3.6/site-packages/ipykernel_launcher.py:27: SettingWithCopyWarning: \n",
      "A value is trying to be set on a copy of a slice from a DataFrame.\n",
      "Try using .loc[row_indexer,col_indexer] = value instead\n",
      "\n",
      "See the caveats in the documentation: http://pandas.pydata.org/pandas-docs/stable/indexing.html#indexing-view-versus-copy\n",
      "/Users/royluo/anaconda3/lib/python3.6/site-packages/ipykernel_launcher.py:28: SettingWithCopyWarning: \n",
      "A value is trying to be set on a copy of a slice from a DataFrame.\n",
      "Try using .loc[row_indexer,col_indexer] = value instead\n",
      "\n",
      "See the caveats in the documentation: http://pandas.pydata.org/pandas-docs/stable/indexing.html#indexing-view-versus-copy\n",
      "/Users/royluo/anaconda3/lib/python3.6/site-packages/ipykernel_launcher.py:35: SettingWithCopyWarning: \n",
      "A value is trying to be set on a copy of a slice from a DataFrame.\n",
      "Try using .loc[row_indexer,col_indexer] = value instead\n",
      "\n",
      "See the caveats in the documentation: http://pandas.pydata.org/pandas-docs/stable/indexing.html#indexing-view-versus-copy\n",
      "/Users/royluo/anaconda3/lib/python3.6/site-packages/ipykernel_launcher.py:36: SettingWithCopyWarning: \n",
      "A value is trying to be set on a copy of a slice from a DataFrame.\n",
      "Try using .loc[row_indexer,col_indexer] = value instead\n",
      "\n",
      "See the caveats in the documentation: http://pandas.pydata.org/pandas-docs/stable/indexing.html#indexing-view-versus-copy\n",
      "/Users/royluo/anaconda3/lib/python3.6/site-packages/ipykernel_launcher.py:37: SettingWithCopyWarning: \n",
      "A value is trying to be set on a copy of a slice from a DataFrame.\n",
      "Try using .loc[row_indexer,col_indexer] = value instead\n",
      "\n",
      "See the caveats in the documentation: http://pandas.pydata.org/pandas-docs/stable/indexing.html#indexing-view-versus-copy\n",
      "/Users/royluo/anaconda3/lib/python3.6/site-packages/sklearn/linear_model/logistic.py:433: FutureWarning: Default solver will be changed to 'lbfgs' in 0.22. Specify a solver to silence this warning.\n",
      "  FutureWarning)\n"
     ]
    },
    {
     "name": "stdout",
     "output_type": "stream",
     "text": [
      "Accuracy of logistic regression classifier on test set: 0.95\n"
     ]
    }
   ],
   "source": [
    "from sklearn.linear_model import LogisticRegression\n",
    "from sklearn import metrics\n",
    "from sklearn.model_selection import train_test_split\n",
    "from sklearn.ensemble import (RandomForestClassifier, AdaBoostClassifier, \n",
    "GradientBoostingClassifier, ExtraTreesClassifier)\n",
    "\n",
    "cols=['question_text','target','period_count', 'word_length'] \n",
    "X=train[cols]\n",
    "y=train['target']\n",
    "\n",
    "X_train, X_test, y_train, y_test = train_test_split(X, y, test_size=0.1, random_state=0)\n",
    "\n",
    "X_train,score1,score2 = train_score(X_train)\n",
    "X_test = test_score(X_test,score1,score2)\n",
    "\n",
    "X_train, X_test, y_train, y_test = np.array(X_train), np.array(X_test),np.array(y_train),np.array(y_test)\n",
    "\n",
    "logreg = LogisticRegression()\n",
    "ranforest = RandomForestClassifier()\n",
    "adaboo = AdaBoostClassifier()\n",
    "GBC = GradientBoostingClassifier()\n",
    "ETC = ExtraTreesClassifier\n",
    "\n",
    "logreg.fit(X_train, y_train)\n",
    "y_pred_logreg = logreg.predict(X_test)\n",
    "\n",
    "logreg_feature = logreg.predict(X_train)\n",
    "\n",
    "\n",
    "print('Accuracy of logistic regression classifier on test set: {:.2f}'.format(logreg.score(X_test, y_test)))\n"
   ]
  },
  {
   "cell_type": "code",
   "execution_count": 76,
   "metadata": {},
   "outputs": [
    {
     "name": "stderr",
     "output_type": "stream",
     "text": [
      "/Users/royluo/anaconda3/lib/python3.6/site-packages/sklearn/ensemble/forest.py:246: FutureWarning: The default value of n_estimators will change from 10 in version 0.20 to 100 in 0.22.\n",
      "  \"10 in version 0.20 to 100 in 0.22.\", FutureWarning)\n"
     ]
    },
    {
     "name": "stdout",
     "output_type": "stream",
     "text": [
      "Accuracy of Random Forest classifier on test set: 0.95\n"
     ]
    }
   ],
   "source": [
    "ranforest.fit(X_train, y_train)\n",
    "y_pred_ranforest = ranforest.predict(X_test)\n",
    "\n",
    "ranforest_feature = ranforest.predict(X_train)\n",
    "\n",
    "print('Accuracy of Random Forest classifier on test set: {:.2f}'.format(ranforest.score(X_test, y_test)))"
   ]
  },
  {
   "cell_type": "code",
   "execution_count": 77,
   "metadata": {},
   "outputs": [
    {
     "name": "stdout",
     "output_type": "stream",
     "text": [
      "Accuracy of Ada Boost classifier on test set: 0.94\n"
     ]
    }
   ],
   "source": [
    "adaboo.fit(X_train, y_train)\n",
    "y_pred_adaboo = adaboo.predict(X_test)\n",
    "\n",
    "adaboo_feature = adaboo.predict(X_train)\n",
    "\n",
    "print('Accuracy of Ada Boost classifier on test set: {:.2f}'.format(adaboo.score(X_test, y_test)))"
   ]
  },
  {
   "cell_type": "code",
   "execution_count": 78,
   "metadata": {},
   "outputs": [
    {
     "name": "stdout",
     "output_type": "stream",
     "text": [
      "Accuracy of Gradient Boosting classifier on test set: 0.95\n"
     ]
    }
   ],
   "source": [
    "GBC.fit(X_train, y_train)\n",
    "y_pred_GBC = GBC.predict(X_test)\n",
    "\n",
    "GBC_feature = GBC.predict(X_train)\n",
    "\n",
    "print('Accuracy of Gradient Boosting classifier on test set: {:.2f}'.format(GBC.score(X_test, y_test)))"
   ]
  },
  {
   "cell_type": "code",
   "execution_count": 1,
   "metadata": {},
   "outputs": [
    {
     "ename": "NameError",
     "evalue": "name 'xgb' is not defined",
     "output_type": "error",
     "traceback": [
      "\u001b[0;31m---------------------------------------------------------------------------\u001b[0m",
      "\u001b[0;31mNameError\u001b[0m                                 Traceback (most recent call last)",
      "\u001b[0;32m<ipython-input-1-c6a86ff454c7>\u001b[0m in \u001b[0;36m<module>\u001b[0;34m\u001b[0m\n\u001b[0;32m----> 1\u001b[0;31m \u001b[0mgbm\u001b[0m \u001b[0;34m=\u001b[0m \u001b[0mxgb\u001b[0m\u001b[0;34m.\u001b[0m\u001b[0mXGBClassifier\u001b[0m\u001b[0;34m(\u001b[0m\u001b[0;34m)\u001b[0m\u001b[0;34m\u001b[0m\u001b[0;34m\u001b[0m\u001b[0m\n\u001b[0m\u001b[1;32m      2\u001b[0m \u001b[0;34m\u001b[0m\u001b[0m\n\u001b[1;32m      3\u001b[0m \u001b[0mfeatures_train\u001b[0m \u001b[0;34m=\u001b[0m \u001b[0mnp\u001b[0m\u001b[0;34m.\u001b[0m\u001b[0marray\u001b[0m\u001b[0;34m(\u001b[0m\u001b[0;34m[\u001b[0m\u001b[0mlogreg_feature\u001b[0m\u001b[0;34m,\u001b[0m\u001b[0mranforest_feature\u001b[0m\u001b[0;34m,\u001b[0m\u001b[0madaboo_feature\u001b[0m\u001b[0;34m,\u001b[0m\u001b[0mGBC_feature\u001b[0m\u001b[0;34m]\u001b[0m\u001b[0;34m)\u001b[0m\u001b[0;34m\u001b[0m\u001b[0;34m\u001b[0m\u001b[0m\n\u001b[1;32m      4\u001b[0m \u001b[0mfeatures_test\u001b[0m \u001b[0;34m=\u001b[0m \u001b[0mnp\u001b[0m\u001b[0;34m.\u001b[0m\u001b[0marray\u001b[0m\u001b[0;34m(\u001b[0m\u001b[0;34m[\u001b[0m\u001b[0my_pred_logreg\u001b[0m\u001b[0;34m,\u001b[0m\u001b[0my_pred_ranforest\u001b[0m\u001b[0;34m,\u001b[0m\u001b[0my_pred_adaboo\u001b[0m\u001b[0;34m,\u001b[0m\u001b[0my_pred_GBC\u001b[0m\u001b[0;34m]\u001b[0m\u001b[0;34m)\u001b[0m\u001b[0;34m\u001b[0m\u001b[0;34m\u001b[0m\u001b[0m\n\u001b[1;32m      5\u001b[0m \u001b[0mgbm\u001b[0m\u001b[0;34m.\u001b[0m\u001b[0mfit\u001b[0m\u001b[0;34m(\u001b[0m\u001b[0mfeatures_train\u001b[0m\u001b[0;34m,\u001b[0m \u001b[0my_train\u001b[0m\u001b[0;34m)\u001b[0m\u001b[0;34m\u001b[0m\u001b[0;34m\u001b[0m\u001b[0m\n",
      "\u001b[0;31mNameError\u001b[0m: name 'xgb' is not defined"
     ]
    }
   ],
   "source": [
    "gbm = xgb.XGBClassifier()\n",
    "\n",
    "features_train = np.array([logreg_feature,ranforest_feature,adaboo_feature,GBC_feature])\n",
    "features_test = np.array([y_pred_logreg,y_pred_ranforest,y_pred_adaboo,y_pred_GBC])\n",
    "gbm.fit(features_train, y_train)\n",
    "y_pred_gbm = gbm.predict(features_test)\n",
    "f1_score(y_test, y_pred_gbm)"
   ]
  },
  {
   "cell_type": "code",
   "execution_count": 7,
   "metadata": {
    "colab": {
     "base_uri": "https://localhost:8080/",
     "height": 294
    },
    "colab_type": "code",
    "id": "_AGgx7h8NlsZ",
    "outputId": "d4c3377b-2086-4059-a203-51173af4c825"
   },
   "outputs": [
    {
     "data": {
      "image/png": "[encoded data removed]",
      "text/plain": [
       "<Figure size 432x288 with 1 Axes>"
      ]
     },
     "metadata": {
      "needs_background": "light"
     },
     "output_type": "display_data"
    }
   ],
   "source": [
    "from sklearn.metrics import roc_auc_score\n",
    "from sklearn.metrics import roc_curve\n",
    "logit_roc_auc = roc_auc_score(y_test, logreg.predict(X_test))\n",
    "fpr, tpr, thresholds = roc_curve(y_test, logreg.predict_proba(X_test)[:,1])\n",
    "plt.figure()\n",
    "plt.plot(fpr, tpr, label='Logistic Regression (area = %0.2f)' % logit_roc_auc)\n",
    "plt.plot([0, 1], [0, 1],'r--')\n",
    "plt.xlim([0.0, 1.0])\n",
    "plt.ylim([0.0, 1.05])\n",
    "plt.xlabel('False Positive Rate')\n",
    "plt.ylabel('True Positive Rate')\n",
    "plt.title('Receiver operating characteristic')\n",
    "plt.legend(loc=\"lower right\")\n",
    "plt.savefig('Log_ROC')\n",
    "plt.show()"
   ]
  },
  {
   "cell_type": "code",
   "execution_count": 8,
   "metadata": {
    "colab": {
     "base_uri": "https://localhost:8080/",
     "height": 170
    },
    "colab_type": "code",
    "id": "ROT9C7AYTzxQ",
    "outputId": "101095ca-054c-4e27-a480-72a6c96a1fb2"
   },
   "outputs": [
    {
     "name": "stdout",
     "output_type": "stream",
     "text": [
      "              precision    recall  f1-score   support\n",
      "\n",
      "           0       0.96      0.99      0.97    367711\n",
      "           1       0.67      0.39      0.49     24126\n",
      "\n",
      "   micro avg       0.95      0.95      0.95    391837\n",
      "   macro avg       0.81      0.69      0.73    391837\n",
      "weighted avg       0.94      0.95      0.94    391837\n",
      "\n"
     ]
    }
   ],
   "source": [
    "from sklearn.metrics import classification_report\n",
    "print(classification_report(y_test, y_pred))"
   ]
  },
  {
   "cell_type": "code",
   "execution_count": 9,
   "metadata": {
    "colab": {
     "base_uri": "https://localhost:8080/",
     "height": 34
    },
    "colab_type": "code",
    "id": "lw0Kv1ODkvgn",
    "outputId": "815f936e-5729-49d7-83a7-f016df824d23"
   },
   "outputs": [
    {
     "data": {
      "text/plain": [
       "0.49429340019326695"
      ]
     },
     "execution_count": 9,
     "metadata": {},
     "output_type": "execute_result"
    }
   ],
   "source": [
    "from sklearn.metrics import f1_score\n",
    "f1_score(y_test, y_pred)"
   ]
  },
  {
   "cell_type": "code",
   "execution_count": 49,
   "metadata": {},
   "outputs": [
    {
     "name": "stderr",
     "output_type": "stream",
     "text": [
      "/Users/royluo/anaconda3/lib/python3.6/site-packages/ipykernel_launcher.py:7: SettingWithCopyWarning: \n",
      "A value is trying to be set on a copy of a slice from a DataFrame.\n",
      "Try using .loc[row_indexer,col_indexer] = value instead\n",
      "\n",
      "See the caveats in the documentation: http://pandas.pydata.org/pandas-docs/stable/indexing.html#indexing-view-versus-copy\n",
      "  import sys\n",
      "/Users/royluo/anaconda3/lib/python3.6/site-packages/ipykernel_launcher.py:27: SettingWithCopyWarning: \n",
      "A value is trying to be set on a copy of a slice from a DataFrame.\n",
      "Try using .loc[row_indexer,col_indexer] = value instead\n",
      "\n",
      "See the caveats in the documentation: http://pandas.pydata.org/pandas-docs/stable/indexing.html#indexing-view-versus-copy\n",
      "/Users/royluo/anaconda3/lib/python3.6/site-packages/ipykernel_launcher.py:28: SettingWithCopyWarning: \n",
      "A value is trying to be set on a copy of a slice from a DataFrame.\n",
      "Try using .loc[row_indexer,col_indexer] = value instead\n",
      "\n",
      "See the caveats in the documentation: http://pandas.pydata.org/pandas-docs/stable/indexing.html#indexing-view-versus-copy\n",
      "/Users/royluo/anaconda3/lib/python3.6/site-packages/ipykernel_launcher.py:35: SettingWithCopyWarning: \n",
      "A value is trying to be set on a copy of a slice from a DataFrame.\n",
      "Try using .loc[row_indexer,col_indexer] = value instead\n",
      "\n",
      "See the caveats in the documentation: http://pandas.pydata.org/pandas-docs/stable/indexing.html#indexing-view-versus-copy\n",
      "/Users/royluo/anaconda3/lib/python3.6/site-packages/ipykernel_launcher.py:36: SettingWithCopyWarning: \n",
      "A value is trying to be set on a copy of a slice from a DataFrame.\n",
      "Try using .loc[row_indexer,col_indexer] = value instead\n",
      "\n",
      "See the caveats in the documentation: http://pandas.pydata.org/pandas-docs/stable/indexing.html#indexing-view-versus-copy\n",
      "/Users/royluo/anaconda3/lib/python3.6/site-packages/ipykernel_launcher.py:37: SettingWithCopyWarning: \n",
      "A value is trying to be set on a copy of a slice from a DataFrame.\n",
      "Try using .loc[row_indexer,col_indexer] = value instead\n",
      "\n",
      "See the caveats in the documentation: http://pandas.pydata.org/pandas-docs/stable/indexing.html#indexing-view-versus-copy\n"
     ]
    }
   ],
   "source": [
    "from sklearn.model_selection import train_test_split\n",
    "import tensorflow as tf\n",
    "cols=['question_text','target','period_count', 'word_length'] \n",
    "X=train[cols]\n",
    "y=train['target']\n",
    "X_train, X_test, y_train, y_test = train_test_split(X, y, test_size=0.1, random_state=0)\n",
    "X_train,score1,score2 = train_score(X_train)\n",
    "X_test = test_score(X_test,score1,score2)"
   ]
  },
  {
   "cell_type": "code",
   "execution_count": 50,
   "metadata": {},
   "outputs": [
    {
     "name": "stdout",
     "output_type": "stream",
     "text": [
      "Epoch 1/2\n",
      "1175509/1175509 [==============================] - 69s 59us/step - loss: 0.1568 - acc: 0.9500\n",
      "Epoch 2/2\n",
      "1175509/1175509 [==============================] - 75s 64us/step - loss: 0.1165 - acc: 0.9535\n"
     ]
    },
    {
     "data": {
      "text/plain": [
       "<tensorflow.python.keras.callbacks.History at 0x1a67fabe80>"
      ]
     },
     "execution_count": 50,
     "metadata": {},
     "output_type": "execute_result"
    }
   ],
   "source": [
    "model = tf.keras.models.Sequential()\n",
    "X_train, X_test, y_train, y_test = np.array(X_train), np.array(X_test),np.array(y_train),np.array(y_test)\n",
    "rate = .3\n",
    "model.add(tf.keras.layers.Flatten())\n",
    "model.add(tf.keras.layers.Dense(32, activation = tf.nn.relu))\n",
    "model.add(tf.keras.layers.Dropout(rate, noise_shape=None, seed=None))\n",
    "model.add(tf.keras.layers.Dense(32, activation = tf.nn.relu))\n",
    "model.add(tf.keras.layers.Dropout(rate, noise_shape=None, seed=None))\n",
    "model.add(tf.keras.layers.Dense(32, activation = tf.nn.relu))\n",
    "model.add(tf.keras.layers.Dropout(rate, noise_shape=None, seed=None))\n",
    "model.add(tf.keras.layers.Dense(32, activation = tf.nn.relu))\n",
    "model.add(tf.keras.layers.Dense(2, activation = tf.nn.softmax))\n",
    "\n",
    "model.compile(optimizer='adam',\n",
    "             loss = 'sparse_categorical_crossentropy',\n",
    "             metrics = ['accuracy'])\n",
    "model.fit(X_train,y_train,epochs = 2)"
   ]
  },
  {
   "cell_type": "code",
   "execution_count": 51,
   "metadata": {},
   "outputs": [
    {
     "name": "stdout",
     "output_type": "stream",
     "text": [
      "130613/130613 [==============================] - 3s 19us/step\n"
     ]
    },
    {
     "data": {
      "text/plain": [
       "[0.15735252781007464, 0.9390030088893112]"
      ]
     },
     "execution_count": 51,
     "metadata": {},
     "output_type": "execute_result"
    }
   ],
   "source": [
    "model.evaluate(X_test,y_test)\n",
    "#returns [loss,accuracy]"
   ]
  },
  {
   "cell_type": "code",
   "execution_count": 52,
   "metadata": {},
   "outputs": [
    {
     "data": {
      "text/plain": [
       "0"
      ]
     },
     "execution_count": 52,
     "metadata": {},
     "output_type": "execute_result"
    }
   ],
   "source": [
    "predictions = model.predict_classes([X_test])\n",
    "predictions[0]"
   ]
  },
  {
   "cell_type": "code",
   "execution_count": 53,
   "metadata": {},
   "outputs": [
    {
     "data": {
      "text/plain": [
       "0.5693746283984649"
      ]
     },
     "execution_count": 53,
     "metadata": {},
     "output_type": "execute_result"
    }
   ],
   "source": [
    "from sklearn.metrics import f1_score\n",
    "f1_score(y_test, predictions)"
   ]
  },
  {
   "cell_type": "code",
   "execution_count": 11,
   "metadata": {
    "colab": {},
    "colab_type": "code",
    "id": "-PjaZ75cLtJZ"
   },
   "outputs": [],
   "source": [
    "glove = pd.read_table('glove.840B.300d.txt',header=None)"
   ]
  },
  {
   "cell_type": "code",
   "execution_count": 13,
   "metadata": {
    "colab": {},
    "colab_type": "code",
    "id": "D402isNjK_FW"
   },
   "outputs": [
    {
     "data": {
      "text/html": [
       "<div>\n",
       "<style scoped>\n",
       "    .dataframe tbody tr th:only-of-type {\n",
       "        vertical-align: middle;\n",
       "    }\n",
       "\n",
       "    .dataframe tbody tr th {\n",
       "        vertical-align: top;\n",
       "    }\n",
       "\n",
       "    .dataframe thead th {\n",
       "        text-align: right;\n",
       "    }\n",
       "</style>\n",
       "<table border=\"1\" class=\"dataframe\">\n",
       "  <thead>\n",
       "    <tr style=\"text-align: right;\">\n",
       "      <th></th>\n",
       "      <th>0</th>\n",
       "    </tr>\n",
       "  </thead>\n",
       "  <tbody>\n",
       "    <tr>\n",
       "      <th>0</th>\n",
       "      <td>, -0.082752 0.67204 -0.14987 -0.064983 0.05649...</td>\n",
       "    </tr>\n",
       "    <tr>\n",
       "      <th>1</th>\n",
       "      <td>. 0.012001 0.20751 -0.12578 -0.59325 0.12525 0...</td>\n",
       "    </tr>\n",
       "    <tr>\n",
       "      <th>2</th>\n",
       "      <td>the 0.27204 -0.06203 -0.1884 0.023225 -0.01815...</td>\n",
       "    </tr>\n",
       "    <tr>\n",
       "      <th>3</th>\n",
       "      <td>and -0.18567 0.066008 -0.25209 -0.11725 0.2651...</td>\n",
       "    </tr>\n",
       "    <tr>\n",
       "      <th>4</th>\n",
       "      <td>to 0.31924 0.06316 -0.27858 0.2612 0.079248 -0...</td>\n",
       "    </tr>\n",
       "  </tbody>\n",
       "</table>\n",
       "</div>"
      ],
      "text/plain": [
       "                                                   0\n",
       "0  , -0.082752 0.67204 -0.14987 -0.064983 0.05649...\n",
       "1  . 0.012001 0.20751 -0.12578 -0.59325 0.12525 0...\n",
       "2  the 0.27204 -0.06203 -0.1884 0.023225 -0.01815...\n",
       "3  and -0.18567 0.066008 -0.25209 -0.11725 0.2651...\n",
       "4  to 0.31924 0.06316 -0.27858 0.2612 0.079248 -0..."
      ]
     },
     "execution_count": 13,
     "metadata": {},
     "output_type": "execute_result"
    }
   ],
   "source": [
    "#glove['vector'] = glove[0].apply(lambda x : str(x).split(\" \")[1:])\n",
    "#glove['name'] = glove[0].apply(lambda x: str(x).split(\" \")[0])\n",
    "glove.head()"
   ]
  },
  {
   "cell_type": "code",
   "execution_count": null,
   "metadata": {},
   "outputs": [],
   "source": [
    "for i, chunk in enumerate(glove):\n",
    "    single_df = chunk\n",
    "    if i >0:\n",
    "        break\n",
    "single_df[0].str.split(' ', expand=True)\n",
    "single_df.index = pd.Index(single_df[0])"
   ]
  },
  {
   "cell_type": "code",
   "execution_count": null,
   "metadata": {},
   "outputs": [],
   "source": [
    "#glove_dict = {y[0]: y[1:] for i in glove[0] for y in [i.split(\" \")]}\n",
    "vals = glove.values\n",
    "vecs = [{} for _ in range(5)]\n",
    "for i, vec in enumerate(vals):\n",
    "    vec = vec[0]\n",
    "    splitted = vec.split()\n",
    "    word = splitted[0]\n",
    "    splitted[0] = 0\n",
    "    vecs[i // 500000][word] = splitted\n",
    "    if i % 10000 == 0:\n",
    "        print(i)\n"
   ]
  },
  {
   "cell_type": "code",
   "execution_count": null,
   "metadata": {
    "colab": {
     "base_uri": "https://localhost:8080/",
     "height": 34
    },
    "colab_type": "code",
    "id": "oYizsZR7MBYf",
    "outputId": "2d82ae2f-0adc-4731-be0d-34a4916edc0b"
   },
   "outputs": [],
   "source": [
    "train['word'] = train['question_text'].apply(lambda x: [re.sub('[^A-Za-z0-9]+', '', i) for i in x.split(\" \")])\n",
    "test['word'] = test['question_text'].apply(lambda x: [re.sub('[^A-Za-z0-9]+', '', i) for i in x.split(\" \")])\n",
    "total_set = set([y for x in train.word for y in x].append([a for b in test.word for a in b]))\n",
    "vals = glove.values\n",
    "vec={}\n",
    "for i, vec in enumerate(vals):\n",
    "    vec = vec[0]\n",
    "    splitted = vec.split()\n",
    "    word = splitted[0]\n",
    "    if word in total_set:\n",
    "        vec{word:splitted[1:]}\n",
    "        "
   ]
  },
  {
   "cell_type": "code",
   "execution_count": 101,
   "metadata": {
    "colab": {
     "base_uri": "https://localhost:8080/",
     "height": 34
    },
    "colab_type": "code",
    "id": "z8bV--o6Tall",
    "outputId": "72976541-7d34-4aad-c0fe-dde7e5c0bba0"
   },
   "outputs": [],
   "source": [
    "paragram = pd.read_table(\"paragram_300_sl999.txt\",header=None,encoding = \"ISO-8859-1\")"
   ]
  },
  {
   "cell_type": "code",
   "execution_count": 144,
   "metadata": {
    "colab": {},
    "colab_type": "code",
    "id": "1GYsjlaOTo23"
   },
   "outputs": [],
   "source": [
    "paragram = pd.read_table(\"paragram_300_sl999.txt\",header=None,encoding = \"ISO-8859-1\")\n",
    "#paragram_dict_1 = {y[0] : y[1:] for i in paragram_chunk_1 if y[0] in total_set for y in i.split()}\n",
    "\n",
    "\n",
    "def choose_chunk(num,df):\n",
    "    for i, chunk in enumerate(df):\n",
    "        singledf = chunk\n",
    "        if i >= num-1:\n",
    "            break\n",
    "    return singledf\n",
    "\n",
    "\n",
    "train['word'] = train['question_text'].apply(lambda x: [re.sub('[^A-Za-z0-9]+', '', i) for i in x.split(\" \")])\n",
    "test['word'] = test['question_text'].apply(lambda x: [re.sub('[^A-Za-z0-9]+', '', i) for i in x.split(\" \")])\n",
    "total_set = set([y for x in train['word'] for y in x] + [a for b in test['word'] for a in b])\n",
    "\n",
    "chunk_1 = paragram.loc[0:300000]\n",
    "chunk_2 = paragram.loc[300000:600000]\n",
    "chunk_3 = paragram.loc[600000:900000]\n",
    "chunk_4 = paragram.loc[900000:1200000]\n",
    "chunk_5 = paragram.loc[1200000:1500000]\n",
    "chunk_6 = paragram.loc[1500000:]\n",
    "\n",
    "def chunk_delete_useless(chunk,total_set):\n",
    "    vec_dict={}\n",
    "    vals = chunk.values\n",
    "    for i, vec in enumerate(vals):\n",
    "        vec = vec[0]\n",
    "        splitted = vec.split()\n",
    "        word = splitted[0]\n",
    "        if word in total_set:\n",
    "            vec_dict[word] = splitted[1:]\n",
    "    return vec_dict\n",
    "d1 = chunk_delete_useless(chunk_1,total_set)\n",
    "d2 = chunk_delete_useless(chunk_2,total_set)\n",
    "d3 = chunk_delete_useless(chunk_3,total_set)\n",
    "d4 = chunk_delete_useless(chunk_4,total_set)\n",
    "d5 = chunk_delete_useless(chunk_5,total_set)\n",
    "d6 = chunk_delete_useless(chunk_6,total_set)\n",
    "paragram_dict = {**d1,**d2,**d3,**d4,**d5,**d6}"
   ]
  },
  {
   "cell_type": "code",
   "execution_count": 62,
   "metadata": {},
   "outputs": [
    {
     "name": "stdout",
     "output_type": "stream",
     "text": [
      "Enter your questionWhy do girls not prefer to become a physicist?\t\n"
     ]
    },
    {
     "data": {
      "text/plain": [
       "array([0])"
      ]
     },
     "execution_count": 62,
     "metadata": {},
     "output_type": "execute_result"
    }
   ],
   "source": [
    "question1 = input('Enter your question')\n",
    "#question1 = 'Has the U.S become the largest dictatorship in this world?'\n",
    "avg_1 = statistics.mean(list(score1.values()))\n",
    "avg_2 = statistics.mean(list(score2.values()))\n",
    "\n",
    "word_length = len(question1.split(' '))\n",
    "char_length = len(question1)\n",
    "period_count = question1.count('.')\n",
    "word = [re.sub('[^A-Za-z0-9]+', '', i) for i in question1.split(\" \")]\n",
    "score_1 = sum([score1[i] if i in score1 else avg_1 for i in word ])\n",
    "score_2 = sum([score2[i] if i in score2 else avg_2 for i in word ])\n",
    "\n",
    "question_input = np.array([[period_count, word_length,score_1,score_2]])\n",
    "\n",
    "model.predict_classes(question_input)"
   ]
  },
  {
   "cell_type": "code",
   "execution_count": null,
   "metadata": {},
   "outputs": [],
   "source": []
  },
  {
   "cell_type": "code",
   "execution_count": 25,
   "metadata": {},
   "outputs": [
    {
     "data": {
      "text/plain": [
       "array([[  1.        ,  10.        , 633.92869895,  14.91558235]])"
      ]
     },
     "execution_count": 25,
     "metadata": {},
     "output_type": "execute_result"
    }
   ],
   "source": [
    "question_input"
   ]
  },
  {
   "cell_type": "code",
   "execution_count": 59,
   "metadata": {},
   "outputs": [
    {
     "data": {
      "text/html": [
       "<div>\n",
       "<style scoped>\n",
       "    .dataframe tbody tr th:only-of-type {\n",
       "        vertical-align: middle;\n",
       "    }\n",
       "\n",
       "    .dataframe tbody tr th {\n",
       "        vertical-align: top;\n",
       "    }\n",
       "\n",
       "    .dataframe thead th {\n",
       "        text-align: right;\n",
       "    }\n",
       "</style>\n",
       "<table border=\"1\" class=\"dataframe\">\n",
       "  <thead>\n",
       "    <tr style=\"text-align: right;\">\n",
       "      <th></th>\n",
       "      <th>qid</th>\n",
       "      <th>question_text</th>\n",
       "      <th>target</th>\n",
       "      <th>period_count</th>\n",
       "      <th>word_length</th>\n",
       "      <th>char_length</th>\n",
       "    </tr>\n",
       "  </thead>\n",
       "  <tbody>\n",
       "    <tr>\n",
       "      <th>22</th>\n",
       "      <td>0000e91571b60c2fb487</td>\n",
       "      <td>Has the United States become the largest dicta...</td>\n",
       "      <td>1</td>\n",
       "      <td>0</td>\n",
       "      <td>11</td>\n",
       "      <td>67</td>\n",
       "    </tr>\n",
       "    <tr>\n",
       "      <th>30</th>\n",
       "      <td>00013ceca3f624b09f42</td>\n",
       "      <td>Which babies are more sweeter to their parents...</td>\n",
       "      <td>1</td>\n",
       "      <td>0</td>\n",
       "      <td>15</td>\n",
       "      <td>86</td>\n",
       "    </tr>\n",
       "    <tr>\n",
       "      <th>110</th>\n",
       "      <td>0004a7fcb2bf73076489</td>\n",
       "      <td>If blacks support school choice and mandatory ...</td>\n",
       "      <td>1</td>\n",
       "      <td>0</td>\n",
       "      <td>15</td>\n",
       "      <td>102</td>\n",
       "    </tr>\n",
       "    <tr>\n",
       "      <th>114</th>\n",
       "      <td>00052793eaa287aff1e1</td>\n",
       "      <td>I am gay boy and I love my cousin (boy). He is...</td>\n",
       "      <td>1</td>\n",
       "      <td>3</td>\n",
       "      <td>34</td>\n",
       "      <td>137</td>\n",
       "    </tr>\n",
       "    <tr>\n",
       "      <th>115</th>\n",
       "      <td>000537213b01fd77b58a</td>\n",
       "      <td>Which races have the smallest penis?</td>\n",
       "      <td>1</td>\n",
       "      <td>0</td>\n",
       "      <td>6</td>\n",
       "      <td>36</td>\n",
       "    </tr>\n",
       "    <tr>\n",
       "      <th>119</th>\n",
       "      <td>00056d45a1ce63856fc6</td>\n",
       "      <td>Why do females find penises ugly?</td>\n",
       "      <td>1</td>\n",
       "      <td>0</td>\n",
       "      <td>6</td>\n",
       "      <td>33</td>\n",
       "    </tr>\n",
       "    <tr>\n",
       "      <th>127</th>\n",
       "      <td>0005de07b07a17046e27</td>\n",
       "      <td>How do I marry an American woman for a Green C...</td>\n",
       "      <td>1</td>\n",
       "      <td>0</td>\n",
       "      <td>16</td>\n",
       "      <td>75</td>\n",
       "    </tr>\n",
       "    <tr>\n",
       "      <th>144</th>\n",
       "      <td>00068875d7c82a5bcf88</td>\n",
       "      <td>Why do Europeans say they're the superior race...</td>\n",
       "      <td>1</td>\n",
       "      <td>0</td>\n",
       "      <td>26</td>\n",
       "      <td>149</td>\n",
       "    </tr>\n",
       "    <tr>\n",
       "      <th>156</th>\n",
       "      <td>0006ffd99a6599ff35b3</td>\n",
       "      <td>Did Julius Caesar bring a tyrannosaurus rex on...</td>\n",
       "      <td>1</td>\n",
       "      <td>0</td>\n",
       "      <td>16</td>\n",
       "      <td>99</td>\n",
       "    </tr>\n",
       "    <tr>\n",
       "      <th>167</th>\n",
       "      <td>00075f7061837807c69f</td>\n",
       "      <td>In what manner has Republican backing of 'stat...</td>\n",
       "      <td>1</td>\n",
       "      <td>0</td>\n",
       "      <td>27</td>\n",
       "      <td>164</td>\n",
       "    </tr>\n",
       "    <tr>\n",
       "      <th>168</th>\n",
       "      <td>00076debbd82860ca33a</td>\n",
       "      <td>Would Europeans continue to participate in the...</td>\n",
       "      <td>1</td>\n",
       "      <td>0</td>\n",
       "      <td>42</td>\n",
       "      <td>223</td>\n",
       "    </tr>\n",
       "    <tr>\n",
       "      <th>208</th>\n",
       "      <td>000983f5b226cca636f4</td>\n",
       "      <td>Why are Americans, British, Canadians, Austral...</td>\n",
       "      <td>1</td>\n",
       "      <td>0</td>\n",
       "      <td>22</td>\n",
       "      <td>147</td>\n",
       "    </tr>\n",
       "    <tr>\n",
       "      <th>214</th>\n",
       "      <td>0009fcb845bb24de91f4</td>\n",
       "      <td>If both Honey Singh and Justin Bieber fall fro...</td>\n",
       "      <td>1</td>\n",
       "      <td>0</td>\n",
       "      <td>15</td>\n",
       "      <td>80</td>\n",
       "    </tr>\n",
       "    <tr>\n",
       "      <th>224</th>\n",
       "      <td>000a898565e80fe124bf</td>\n",
       "      <td>Why are liberal minorities so voilent towards ...</td>\n",
       "      <td>1</td>\n",
       "      <td>0</td>\n",
       "      <td>24</td>\n",
       "      <td>161</td>\n",
       "    </tr>\n",
       "    <tr>\n",
       "      <th>235</th>\n",
       "      <td>000b1f4cbc5c238a765d</td>\n",
       "      <td>Can we all now admit that President Trump does...</td>\n",
       "      <td>1</td>\n",
       "      <td>0</td>\n",
       "      <td>20</td>\n",
       "      <td>126</td>\n",
       "    </tr>\n",
       "    <tr>\n",
       "      <th>260</th>\n",
       "      <td>000c44fe9b2822b25d77</td>\n",
       "      <td>The American economy is growing under Trump’s ...</td>\n",
       "      <td>1</td>\n",
       "      <td>0</td>\n",
       "      <td>17</td>\n",
       "      <td>104</td>\n",
       "    </tr>\n",
       "    <tr>\n",
       "      <th>286</th>\n",
       "      <td>000d9de4df8d6a31c248</td>\n",
       "      <td>Why don't poor countries print more money to u...</td>\n",
       "      <td>1</td>\n",
       "      <td>1</td>\n",
       "      <td>14</td>\n",
       "      <td>80</td>\n",
       "    </tr>\n",
       "    <tr>\n",
       "      <th>289</th>\n",
       "      <td>000db4d0223af5dd9c5d</td>\n",
       "      <td>Why do all the people who claim Florida has gr...</td>\n",
       "      <td>1</td>\n",
       "      <td>0</td>\n",
       "      <td>19</td>\n",
       "      <td>103</td>\n",
       "    </tr>\n",
       "    <tr>\n",
       "      <th>291</th>\n",
       "      <td>000db9603d16a6d9bb2e</td>\n",
       "      <td>Could the leader of Iran be dead many years ag...</td>\n",
       "      <td>1</td>\n",
       "      <td>0</td>\n",
       "      <td>21</td>\n",
       "      <td>105</td>\n",
       "    </tr>\n",
       "    <tr>\n",
       "      <th>302</th>\n",
       "      <td>000e67648fce55f011be</td>\n",
       "      <td>Why do the Liberals who run schools choose not...</td>\n",
       "      <td>1</td>\n",
       "      <td>1</td>\n",
       "      <td>24</td>\n",
       "      <td>130</td>\n",
       "    </tr>\n",
       "    <tr>\n",
       "      <th>315</th>\n",
       "      <td>000f0266e12c3349db07</td>\n",
       "      <td>Why did Pakistan pass the Sikh Marriage Act be...</td>\n",
       "      <td>1</td>\n",
       "      <td>0</td>\n",
       "      <td>10</td>\n",
       "      <td>57</td>\n",
       "    </tr>\n",
       "    <tr>\n",
       "      <th>333</th>\n",
       "      <td>000f89527b907f3ef20f</td>\n",
       "      <td>How do I train my dogs to kill raccoons?</td>\n",
       "      <td>1</td>\n",
       "      <td>0</td>\n",
       "      <td>9</td>\n",
       "      <td>40</td>\n",
       "    </tr>\n",
       "    <tr>\n",
       "      <th>362</th>\n",
       "      <td>0010b8bd37af629de2f9</td>\n",
       "      <td>Is there any woman (other than Muslim) who is ...</td>\n",
       "      <td>1</td>\n",
       "      <td>0</td>\n",
       "      <td>39</td>\n",
       "      <td>197</td>\n",
       "    </tr>\n",
       "    <tr>\n",
       "      <th>397</th>\n",
       "      <td>0012bba774c13ce9cc9e</td>\n",
       "      <td>Do moms have sex with their sons?</td>\n",
       "      <td>1</td>\n",
       "      <td>0</td>\n",
       "      <td>7</td>\n",
       "      <td>33</td>\n",
       "    </tr>\n",
       "    <tr>\n",
       "      <th>400</th>\n",
       "      <td>0012d72ccc14e9329f97</td>\n",
       "      <td>Why did the Pope say that \"Muslims are a curse...</td>\n",
       "      <td>1</td>\n",
       "      <td>0</td>\n",
       "      <td>13</td>\n",
       "      <td>62</td>\n",
       "    </tr>\n",
       "    <tr>\n",
       "      <th>439</th>\n",
       "      <td>0014e0200bb280d44ea1</td>\n",
       "      <td>How peoples in India seems hypocritical about ...</td>\n",
       "      <td>1</td>\n",
       "      <td>0</td>\n",
       "      <td>9</td>\n",
       "      <td>65</td>\n",
       "    </tr>\n",
       "    <tr>\n",
       "      <th>460</th>\n",
       "      <td>0015e367aa794e5d547f</td>\n",
       "      <td>How much more political fumbling will it take ...</td>\n",
       "      <td>1</td>\n",
       "      <td>0</td>\n",
       "      <td>14</td>\n",
       "      <td>79</td>\n",
       "    </tr>\n",
       "    <tr>\n",
       "      <th>496</th>\n",
       "      <td>00175f5e9c85b110614e</td>\n",
       "      <td>Why do Americans prefer just to not show up so...</td>\n",
       "      <td>1</td>\n",
       "      <td>1</td>\n",
       "      <td>41</td>\n",
       "      <td>228</td>\n",
       "    </tr>\n",
       "    <tr>\n",
       "      <th>538</th>\n",
       "      <td>00199a473cba7b54d974</td>\n",
       "      <td>Liberals are pro-choice, but the choices must ...</td>\n",
       "      <td>1</td>\n",
       "      <td>1</td>\n",
       "      <td>19</td>\n",
       "      <td>117</td>\n",
       "    </tr>\n",
       "    <tr>\n",
       "      <th>544</th>\n",
       "      <td>0019e01b2a7b09d3cb65</td>\n",
       "      <td>Why are South Indian dishes which are prepared...</td>\n",
       "      <td>1</td>\n",
       "      <td>0</td>\n",
       "      <td>20</td>\n",
       "      <td>124</td>\n",
       "    </tr>\n",
       "    <tr>\n",
       "      <th>...</th>\n",
       "      <td>...</td>\n",
       "      <td>...</td>\n",
       "      <td>...</td>\n",
       "      <td>...</td>\n",
       "      <td>...</td>\n",
       "      <td>...</td>\n",
       "    </tr>\n",
       "    <tr>\n",
       "      <th>1305724</th>\n",
       "      <td>ffec4c802fb34eb23ef9</td>\n",
       "      <td>When did you feel first time yourself as shame...</td>\n",
       "      <td>1</td>\n",
       "      <td>0</td>\n",
       "      <td>16</td>\n",
       "      <td>78</td>\n",
       "    </tr>\n",
       "    <tr>\n",
       "      <th>1305732</th>\n",
       "      <td>ffec82d5dbd1ebefb7c0</td>\n",
       "      <td>Where can I hire a young stud so my teenager d...</td>\n",
       "      <td>1</td>\n",
       "      <td>1</td>\n",
       "      <td>28</td>\n",
       "      <td>156</td>\n",
       "    </tr>\n",
       "    <tr>\n",
       "      <th>1305742</th>\n",
       "      <td>ffece1a61e7be3c3e3f5</td>\n",
       "      <td>Why nobody talks about the STUPIDITY of the Am...</td>\n",
       "      <td>1</td>\n",
       "      <td>0</td>\n",
       "      <td>18</td>\n",
       "      <td>106</td>\n",
       "    </tr>\n",
       "    <tr>\n",
       "      <th>1305782</th>\n",
       "      <td>ffeee6fdbb7b0d1c3b45</td>\n",
       "      <td>Is Erdogan turning Ataturk’s Democratic Turkey...</td>\n",
       "      <td>1</td>\n",
       "      <td>0</td>\n",
       "      <td>19</td>\n",
       "      <td>130</td>\n",
       "    </tr>\n",
       "    <tr>\n",
       "      <th>1305800</th>\n",
       "      <td>ffefde8802949fc800df</td>\n",
       "      <td>Why isn't the former attorney general Loretta ...</td>\n",
       "      <td>1</td>\n",
       "      <td>1</td>\n",
       "      <td>37</td>\n",
       "      <td>225</td>\n",
       "    </tr>\n",
       "    <tr>\n",
       "      <th>1305803</th>\n",
       "      <td>fff0135dbfec9632c4b1</td>\n",
       "      <td>What percentage of women cheat on their hubbies?</td>\n",
       "      <td>1</td>\n",
       "      <td>0</td>\n",
       "      <td>8</td>\n",
       "      <td>48</td>\n",
       "    </tr>\n",
       "    <tr>\n",
       "      <th>1305824</th>\n",
       "      <td>fff11ad2993140f3b781</td>\n",
       "      <td>Is someone diagnosed with Asperger's syndrome ...</td>\n",
       "      <td>1</td>\n",
       "      <td>0</td>\n",
       "      <td>9</td>\n",
       "      <td>62</td>\n",
       "    </tr>\n",
       "    <tr>\n",
       "      <th>1305826</th>\n",
       "      <td>fff154c079d3a38e52fb</td>\n",
       "      <td>Why are Israeli men short?</td>\n",
       "      <td>1</td>\n",
       "      <td>0</td>\n",
       "      <td>5</td>\n",
       "      <td>26</td>\n",
       "    </tr>\n",
       "    <tr>\n",
       "      <th>1305851</th>\n",
       "      <td>fff299cebfe81e809f9b</td>\n",
       "      <td>Some psychiatrists in Iran claim that they can...</td>\n",
       "      <td>1</td>\n",
       "      <td>1</td>\n",
       "      <td>30</td>\n",
       "      <td>173</td>\n",
       "    </tr>\n",
       "    <tr>\n",
       "      <th>1305872</th>\n",
       "      <td>fff3f7db2ca135f2fb73</td>\n",
       "      <td>What happens to a state if its population, dem...</td>\n",
       "      <td>1</td>\n",
       "      <td>0</td>\n",
       "      <td>25</td>\n",
       "      <td>158</td>\n",
       "    </tr>\n",
       "    <tr>\n",
       "      <th>1305912</th>\n",
       "      <td>fff5fa44ab508147502a</td>\n",
       "      <td>Do the Chinese people eat bath soap?</td>\n",
       "      <td>1</td>\n",
       "      <td>0</td>\n",
       "      <td>7</td>\n",
       "      <td>36</td>\n",
       "    </tr>\n",
       "    <tr>\n",
       "      <th>1305923</th>\n",
       "      <td>fff680ed5edf7171837f</td>\n",
       "      <td>Does this Congress have blood on their hands f...</td>\n",
       "      <td>1</td>\n",
       "      <td>0</td>\n",
       "      <td>19</td>\n",
       "      <td>122</td>\n",
       "    </tr>\n",
       "    <tr>\n",
       "      <th>1305925</th>\n",
       "      <td>fff6992ae1074305146b</td>\n",
       "      <td>Why are men selective?</td>\n",
       "      <td>1</td>\n",
       "      <td>0</td>\n",
       "      <td>4</td>\n",
       "      <td>22</td>\n",
       "    </tr>\n",
       "    <tr>\n",
       "      <th>1305935</th>\n",
       "      <td>fff7047fb7f50f22034e</td>\n",
       "      <td>Why do girls not prefer to become a physicist?</td>\n",
       "      <td>1</td>\n",
       "      <td>0</td>\n",
       "      <td>9</td>\n",
       "      <td>46</td>\n",
       "    </tr>\n",
       "    <tr>\n",
       "      <th>1305946</th>\n",
       "      <td>fff7c4b7fce4aa35085f</td>\n",
       "      <td>Why do the people from Kannur in Kerala adjust...</td>\n",
       "      <td>1</td>\n",
       "      <td>0</td>\n",
       "      <td>19</td>\n",
       "      <td>121</td>\n",
       "    </tr>\n",
       "    <tr>\n",
       "      <th>1305949</th>\n",
       "      <td>fff7daec8aaa3fef0144</td>\n",
       "      <td>Why is there a trend for dresses to reveal the...</td>\n",
       "      <td>1</td>\n",
       "      <td>0</td>\n",
       "      <td>17</td>\n",
       "      <td>83</td>\n",
       "    </tr>\n",
       "    <tr>\n",
       "      <th>1305956</th>\n",
       "      <td>fff821cc942595ad001a</td>\n",
       "      <td>Should I give my child a panic button or peppe...</td>\n",
       "      <td>1</td>\n",
       "      <td>0</td>\n",
       "      <td>30</td>\n",
       "      <td>155</td>\n",
       "    </tr>\n",
       "    <tr>\n",
       "      <th>1305961</th>\n",
       "      <td>fff88b573199be9c49dd</td>\n",
       "      <td>Is it true that hydrogen is a light, odorless ...</td>\n",
       "      <td>1</td>\n",
       "      <td>0</td>\n",
       "      <td>17</td>\n",
       "      <td>95</td>\n",
       "    </tr>\n",
       "    <tr>\n",
       "      <th>1305980</th>\n",
       "      <td>fff9b1f5811b8d100ad7</td>\n",
       "      <td>It is posible to kill 4months baby?</td>\n",
       "      <td>1</td>\n",
       "      <td>0</td>\n",
       "      <td>7</td>\n",
       "      <td>35</td>\n",
       "    </tr>\n",
       "    <tr>\n",
       "      <th>1305995</th>\n",
       "      <td>fffa3d341342b5466b72</td>\n",
       "      <td>Is it a fact that the Europeans are the bigges...</td>\n",
       "      <td>1</td>\n",
       "      <td>0</td>\n",
       "      <td>16</td>\n",
       "      <td>85</td>\n",
       "    </tr>\n",
       "    <tr>\n",
       "      <th>1306017</th>\n",
       "      <td>fffb248e6d138dd1d942</td>\n",
       "      <td>What are not scam online services for essay wr...</td>\n",
       "      <td>1</td>\n",
       "      <td>0</td>\n",
       "      <td>9</td>\n",
       "      <td>52</td>\n",
       "    </tr>\n",
       "    <tr>\n",
       "      <th>1306025</th>\n",
       "      <td>fffb79a4422e61289508</td>\n",
       "      <td>Is it just me, or was Prince the singer ugly a...</td>\n",
       "      <td>1</td>\n",
       "      <td>0</td>\n",
       "      <td>12</td>\n",
       "      <td>54</td>\n",
       "    </tr>\n",
       "    <tr>\n",
       "      <th>1306026</th>\n",
       "      <td>fffb7af82c269dd9e46b</td>\n",
       "      <td>Could we finally give Einstein's first wife cr...</td>\n",
       "      <td>1</td>\n",
       "      <td>1</td>\n",
       "      <td>21</td>\n",
       "      <td>120</td>\n",
       "    </tr>\n",
       "    <tr>\n",
       "      <th>1306031</th>\n",
       "      <td>fffbada9affd3fc98e82</td>\n",
       "      <td>Why do Jews want endless immigration to the US...</td>\n",
       "      <td>1</td>\n",
       "      <td>0</td>\n",
       "      <td>23</td>\n",
       "      <td>139</td>\n",
       "    </tr>\n",
       "    <tr>\n",
       "      <th>1306071</th>\n",
       "      <td>fffda2da6882154e1b91</td>\n",
       "      <td>Will Oprah buy the DNC to guarantee her nomina...</td>\n",
       "      <td>1</td>\n",
       "      <td>0</td>\n",
       "      <td>16</td>\n",
       "      <td>84</td>\n",
       "    </tr>\n",
       "    <tr>\n",
       "      <th>1306093</th>\n",
       "      <td>fffeba722d9b371bd1b9</td>\n",
       "      <td>How is it to have intimate relation with your ...</td>\n",
       "      <td>1</td>\n",
       "      <td>0</td>\n",
       "      <td>10</td>\n",
       "      <td>53</td>\n",
       "    </tr>\n",
       "    <tr>\n",
       "      <th>1306094</th>\n",
       "      <td>fffee269360dd0d3947a</td>\n",
       "      <td>Why is it when singers have lyrics about voice...</td>\n",
       "      <td>1</td>\n",
       "      <td>0</td>\n",
       "      <td>35</td>\n",
       "      <td>205</td>\n",
       "    </tr>\n",
       "    <tr>\n",
       "      <th>1306099</th>\n",
       "      <td>ffff0e4ea1bb6e16feec</td>\n",
       "      <td>Do pakis smell of curry and shit?</td>\n",
       "      <td>1</td>\n",
       "      <td>0</td>\n",
       "      <td>7</td>\n",
       "      <td>33</td>\n",
       "    </tr>\n",
       "    <tr>\n",
       "      <th>1306103</th>\n",
       "      <td>ffff3f0a2449ffe4b9ff</td>\n",
       "      <td>Isn't Trump right after all? Why should the US...</td>\n",
       "      <td>1</td>\n",
       "      <td>0</td>\n",
       "      <td>35</td>\n",
       "      <td>213</td>\n",
       "    </tr>\n",
       "    <tr>\n",
       "      <th>1306112</th>\n",
       "      <td>ffffa5b0fa76431c063f</td>\n",
       "      <td>Are you ashamed of being an Indian?</td>\n",
       "      <td>1</td>\n",
       "      <td>0</td>\n",
       "      <td>7</td>\n",
       "      <td>35</td>\n",
       "    </tr>\n",
       "  </tbody>\n",
       "</table>\n",
       "<p>80810 rows × 6 columns</p>\n",
       "</div>"
      ],
      "text/plain": [
       "                          qid  \\\n",
       "22       0000e91571b60c2fb487   \n",
       "30       00013ceca3f624b09f42   \n",
       "110      0004a7fcb2bf73076489   \n",
       "114      00052793eaa287aff1e1   \n",
       "115      000537213b01fd77b58a   \n",
       "119      00056d45a1ce63856fc6   \n",
       "127      0005de07b07a17046e27   \n",
       "144      00068875d7c82a5bcf88   \n",
       "156      0006ffd99a6599ff35b3   \n",
       "167      00075f7061837807c69f   \n",
       "168      00076debbd82860ca33a   \n",
       "208      000983f5b226cca636f4   \n",
       "214      0009fcb845bb24de91f4   \n",
       "224      000a898565e80fe124bf   \n",
       "235      000b1f4cbc5c238a765d   \n",
       "260      000c44fe9b2822b25d77   \n",
       "286      000d9de4df8d6a31c248   \n",
       "289      000db4d0223af5dd9c5d   \n",
       "291      000db9603d16a6d9bb2e   \n",
       "302      000e67648fce55f011be   \n",
       "315      000f0266e12c3349db07   \n",
       "333      000f89527b907f3ef20f   \n",
       "362      0010b8bd37af629de2f9   \n",
       "397      0012bba774c13ce9cc9e   \n",
       "400      0012d72ccc14e9329f97   \n",
       "439      0014e0200bb280d44ea1   \n",
       "460      0015e367aa794e5d547f   \n",
       "496      00175f5e9c85b110614e   \n",
       "538      00199a473cba7b54d974   \n",
       "544      0019e01b2a7b09d3cb65   \n",
       "...                       ...   \n",
       "1305724  ffec4c802fb34eb23ef9   \n",
       "1305732  ffec82d5dbd1ebefb7c0   \n",
       "1305742  ffece1a61e7be3c3e3f5   \n",
       "1305782  ffeee6fdbb7b0d1c3b45   \n",
       "1305800  ffefde8802949fc800df   \n",
       "1305803  fff0135dbfec9632c4b1   \n",
       "1305824  fff11ad2993140f3b781   \n",
       "1305826  fff154c079d3a38e52fb   \n",
       "1305851  fff299cebfe81e809f9b   \n",
       "1305872  fff3f7db2ca135f2fb73   \n",
       "1305912  fff5fa44ab508147502a   \n",
       "1305923  fff680ed5edf7171837f   \n",
       "1305925  fff6992ae1074305146b   \n",
       "1305935  fff7047fb7f50f22034e   \n",
       "1305946  fff7c4b7fce4aa35085f   \n",
       "1305949  fff7daec8aaa3fef0144   \n",
       "1305956  fff821cc942595ad001a   \n",
       "1305961  fff88b573199be9c49dd   \n",
       "1305980  fff9b1f5811b8d100ad7   \n",
       "1305995  fffa3d341342b5466b72   \n",
       "1306017  fffb248e6d138dd1d942   \n",
       "1306025  fffb79a4422e61289508   \n",
       "1306026  fffb7af82c269dd9e46b   \n",
       "1306031  fffbada9affd3fc98e82   \n",
       "1306071  fffda2da6882154e1b91   \n",
       "1306093  fffeba722d9b371bd1b9   \n",
       "1306094  fffee269360dd0d3947a   \n",
       "1306099  ffff0e4ea1bb6e16feec   \n",
       "1306103  ffff3f0a2449ffe4b9ff   \n",
       "1306112  ffffa5b0fa76431c063f   \n",
       "\n",
       "                                             question_text  target  \\\n",
       "22       Has the United States become the largest dicta...       1   \n",
       "30       Which babies are more sweeter to their parents...       1   \n",
       "110      If blacks support school choice and mandatory ...       1   \n",
       "114      I am gay boy and I love my cousin (boy). He is...       1   \n",
       "115                   Which races have the smallest penis?       1   \n",
       "119                      Why do females find penises ugly?       1   \n",
       "127      How do I marry an American woman for a Green C...       1   \n",
       "144      Why do Europeans say they're the superior race...       1   \n",
       "156      Did Julius Caesar bring a tyrannosaurus rex on...       1   \n",
       "167      In what manner has Republican backing of 'stat...       1   \n",
       "168      Would Europeans continue to participate in the...       1   \n",
       "208      Why are Americans, British, Canadians, Austral...       1   \n",
       "214      If both Honey Singh and Justin Bieber fall fro...       1   \n",
       "224      Why are liberal minorities so voilent towards ...       1   \n",
       "235      Can we all now admit that President Trump does...       1   \n",
       "260      The American economy is growing under Trump’s ...       1   \n",
       "286      Why don't poor countries print more money to u...       1   \n",
       "289      Why do all the people who claim Florida has gr...       1   \n",
       "291      Could the leader of Iran be dead many years ag...       1   \n",
       "302      Why do the Liberals who run schools choose not...       1   \n",
       "315      Why did Pakistan pass the Sikh Marriage Act be...       1   \n",
       "333               How do I train my dogs to kill raccoons?       1   \n",
       "362      Is there any woman (other than Muslim) who is ...       1   \n",
       "397                      Do moms have sex with their sons?       1   \n",
       "400      Why did the Pope say that \"Muslims are a curse...       1   \n",
       "439      How peoples in India seems hypocritical about ...       1   \n",
       "460      How much more political fumbling will it take ...       1   \n",
       "496      Why do Americans prefer just to not show up so...       1   \n",
       "538      Liberals are pro-choice, but the choices must ...       1   \n",
       "544      Why are South Indian dishes which are prepared...       1   \n",
       "...                                                    ...     ...   \n",
       "1305724  When did you feel first time yourself as shame...       1   \n",
       "1305732  Where can I hire a young stud so my teenager d...       1   \n",
       "1305742  Why nobody talks about the STUPIDITY of the Am...       1   \n",
       "1305782  Is Erdogan turning Ataturk’s Democratic Turkey...       1   \n",
       "1305800  Why isn't the former attorney general Loretta ...       1   \n",
       "1305803   What percentage of women cheat on their hubbies?       1   \n",
       "1305824  Is someone diagnosed with Asperger's syndrome ...       1   \n",
       "1305826                         Why are Israeli men short?       1   \n",
       "1305851  Some psychiatrists in Iran claim that they can...       1   \n",
       "1305872  What happens to a state if its population, dem...       1   \n",
       "1305912               Do the Chinese people eat bath soap?       1   \n",
       "1305923  Does this Congress have blood on their hands f...       1   \n",
       "1305925                             Why are men selective?       1   \n",
       "1305935     Why do girls not prefer to become a physicist?       1   \n",
       "1305946  Why do the people from Kannur in Kerala adjust...       1   \n",
       "1305949  Why is there a trend for dresses to reveal the...       1   \n",
       "1305956  Should I give my child a panic button or peppe...       1   \n",
       "1305961  Is it true that hydrogen is a light, odorless ...       1   \n",
       "1305980                It is posible to kill 4months baby?       1   \n",
       "1305995  Is it a fact that the Europeans are the bigges...       1   \n",
       "1306017  What are not scam online services for essay wr...       1   \n",
       "1306025  Is it just me, or was Prince the singer ugly a...       1   \n",
       "1306026  Could we finally give Einstein's first wife cr...       1   \n",
       "1306031  Why do Jews want endless immigration to the US...       1   \n",
       "1306071  Will Oprah buy the DNC to guarantee her nomina...       1   \n",
       "1306093  How is it to have intimate relation with your ...       1   \n",
       "1306094  Why is it when singers have lyrics about voice...       1   \n",
       "1306099                  Do pakis smell of curry and shit?       1   \n",
       "1306103  Isn't Trump right after all? Why should the US...       1   \n",
       "1306112                Are you ashamed of being an Indian?       1   \n",
       "\n",
       "         period_count  word_length  char_length  \n",
       "22                  0           11           67  \n",
       "30                  0           15           86  \n",
       "110                 0           15          102  \n",
       "114                 3           34          137  \n",
       "115                 0            6           36  \n",
       "119                 0            6           33  \n",
       "127                 0           16           75  \n",
       "144                 0           26          149  \n",
       "156                 0           16           99  \n",
       "167                 0           27          164  \n",
       "168                 0           42          223  \n",
       "208                 0           22          147  \n",
       "214                 0           15           80  \n",
       "224                 0           24          161  \n",
       "235                 0           20          126  \n",
       "260                 0           17          104  \n",
       "286                 1           14           80  \n",
       "289                 0           19          103  \n",
       "291                 0           21          105  \n",
       "302                 1           24          130  \n",
       "315                 0           10           57  \n",
       "333                 0            9           40  \n",
       "362                 0           39          197  \n",
       "397                 0            7           33  \n",
       "400                 0           13           62  \n",
       "439                 0            9           65  \n",
       "460                 0           14           79  \n",
       "496                 1           41          228  \n",
       "538                 1           19          117  \n",
       "544                 0           20          124  \n",
       "...               ...          ...          ...  \n",
       "1305724             0           16           78  \n",
       "1305732             1           28          156  \n",
       "1305742             0           18          106  \n",
       "1305782             0           19          130  \n",
       "1305800             1           37          225  \n",
       "1305803             0            8           48  \n",
       "1305824             0            9           62  \n",
       "1305826             0            5           26  \n",
       "1305851             1           30          173  \n",
       "1305872             0           25          158  \n",
       "1305912             0            7           36  \n",
       "1305923             0           19          122  \n",
       "1305925             0            4           22  \n",
       "1305935             0            9           46  \n",
       "1305946             0           19          121  \n",
       "1305949             0           17           83  \n",
       "1305956             0           30          155  \n",
       "1305961             0           17           95  \n",
       "1305980             0            7           35  \n",
       "1305995             0           16           85  \n",
       "1306017             0            9           52  \n",
       "1306025             0           12           54  \n",
       "1306026             1           21          120  \n",
       "1306031             0           23          139  \n",
       "1306071             0           16           84  \n",
       "1306093             0           10           53  \n",
       "1306094             0           35          205  \n",
       "1306099             0            7           33  \n",
       "1306103             0           35          213  \n",
       "1306112             0            7           35  \n",
       "\n",
       "[80810 rows x 6 columns]"
      ]
     },
     "execution_count": 59,
     "metadata": {},
     "output_type": "execute_result"
    }
   ],
   "source": [
    "train[train.target == 1]"
   ]
  },
  {
   "cell_type": "code",
   "execution_count": 73,
   "metadata": {},
   "outputs": [],
   "source": [
    "features_test = np.array([y_pred_logreg,y_pred_ranforest,y_pred_adaboo,y_pred_GBC])"
   ]
  },
  {
   "cell_type": "code",
   "execution_count": 74,
   "metadata": {},
   "outputs": [
    {
     "data": {
      "text/plain": [
       "array([[0, 0, 0, ..., 0, 0, 0],\n",
       "       [0, 0, 0, ..., 0, 0, 0],\n",
       "       [0, 0, 0, ..., 0, 0, 0],\n",
       "       [0, 0, 0, ..., 0, 0, 0]])"
      ]
     },
     "execution_count": 74,
     "metadata": {},
     "output_type": "execute_result"
    }
   ],
   "source": [
    "features_test"
   ]
  },
  {
   "cell_type": "code",
   "execution_count": 7,
   "metadata": {},
   "outputs": [
    {
     "data": {
      "text/plain": [
       "Sentiment(polarity=-0.2, subjectivity=0.8)"
      ]
     },
     "execution_count": 7,
     "metadata": {},
     "output_type": "execute_result"
    }
   ],
   "source": [
    "from textblob import TextBlob\n",
    "opinion = TextBlob(\"Do pakis smell of curry and shit?\")\n",
    "opinion.sentiment"
   ]
  },
  {
   "cell_type": "code",
   "execution_count": 4,
   "metadata": {},
   "outputs": [
    {
     "data": {
      "text/plain": [
       "Sentiment(polarity=-0.6666666666666666, subjectivity=0.8333333333333334)"
      ]
     },
     "execution_count": 4,
     "metadata": {},
     "output_type": "execute_result"
    }
   ],
   "source": [
    "opinion = TextBlob(\"Why is trump such a terrible and awful president.\")\n",
    "opinion.sentiment"
   ]
  },
  {
   "cell_type": "code",
   "execution_count": 43,
   "metadata": {},
   "outputs": [
    {
     "ename": "XGBoostError",
     "evalue": "b'[20:50:06] src/objective/regression_obj.cu:66: Check failed: preds.Size() == info.labels_.Size() (4 vs. 10) labels are not correctly providedpreds.size=4, label.size=10\\n\\nStack trace returned 7 entries:\\n[bt] (0) 0   libxgboost.dylib                    0x0000001a20f51b01 dmlc::StackTrace() + 305\\n[bt] (1) 1   libxgboost.dylib                    0x0000001a20f5188f dmlc::LogMessageFatal::~LogMessageFatal() + 47\\n[bt] (2) 2   libxgboost.dylib                    0x0000001a20fcf1ee xgboost::obj::RegLossObj<xgboost::obj::LogisticClassification>::GetGradient(xgboost::HostDeviceVector<float> const&, xgboost::MetaInfo const&, int, xgboost::HostDeviceVector<xgboost::detail::GradientPairInternal<float> >*) + 606\\n[bt] (3) 3   libxgboost.dylib                    0x0000001a20f4d7d6 xgboost::LearnerImpl::UpdateOneIter(int, xgboost::DMatrix*) + 1014\\n[bt] (4) 4   libxgboost.dylib                    0x0000001a20f6aaac XGBoosterUpdateOneIter + 172\\n[bt] (5) 5   libffi.6.dylib                      0x000000010bf66884 ffi_call_unix64 + 76\\n[bt] (6) 6   ???                                 0x00007ffee5991100 0x0 + 140732750434560\\n\\n'",
     "output_type": "error",
     "traceback": [
      "\u001b[0;31m---------------------------------------------------------------------------\u001b[0m",
      "\u001b[0;31mXGBoostError\u001b[0m                              Traceback (most recent call last)",
      "\u001b[0;32m<ipython-input-43-0adf0dd430cb>\u001b[0m in \u001b[0;36m<module>\u001b[0;34m\u001b[0m\n\u001b[1;32m      3\u001b[0m \u001b[0my\u001b[0m \u001b[0;34m=\u001b[0m \u001b[0mnp\u001b[0m\u001b[0;34m.\u001b[0m\u001b[0mrandom\u001b[0m\u001b[0;34m.\u001b[0m\u001b[0mrandint\u001b[0m\u001b[0;34m(\u001b[0m\u001b[0;36m0\u001b[0m\u001b[0;34m,\u001b[0m\u001b[0;36m2\u001b[0m\u001b[0;34m,\u001b[0m\u001b[0;36m10\u001b[0m\u001b[0;34m)\u001b[0m\u001b[0;34m\u001b[0m\u001b[0;34m\u001b[0m\u001b[0m\n\u001b[1;32m      4\u001b[0m \u001b[0mmodel\u001b[0m \u001b[0;34m=\u001b[0m \u001b[0mxgb\u001b[0m\u001b[0;34m.\u001b[0m\u001b[0mXGBClassifier\u001b[0m\u001b[0;34m(\u001b[0m\u001b[0mobjective\u001b[0m\u001b[0;34m=\u001b[0m \u001b[0;34m'binary:logistic'\u001b[0m\u001b[0;34m)\u001b[0m\u001b[0;34m\u001b[0m\u001b[0;34m\u001b[0m\u001b[0m\n\u001b[0;32m----> 5\u001b[0;31m \u001b[0mmodel\u001b[0m\u001b[0;34m.\u001b[0m\u001b[0mfit\u001b[0m\u001b[0;34m(\u001b[0m\u001b[0mfeature\u001b[0m\u001b[0;34m,\u001b[0m\u001b[0my\u001b[0m\u001b[0;34m)\u001b[0m\u001b[0;34m\u001b[0m\u001b[0;34m\u001b[0m\u001b[0m\n\u001b[0m",
      "\u001b[0;32m~/anaconda3/lib/python3.6/site-packages/xgboost/sklearn.py\u001b[0m in \u001b[0;36mfit\u001b[0;34m(self, X, y, sample_weight, eval_set, eval_metric, early_stopping_rounds, verbose, xgb_model, sample_weight_eval_set, callbacks)\u001b[0m\n\u001b[1;32m    698\u001b[0m                               \u001b[0mevals_result\u001b[0m\u001b[0;34m=\u001b[0m\u001b[0mevals_result\u001b[0m\u001b[0;34m,\u001b[0m \u001b[0mobj\u001b[0m\u001b[0;34m=\u001b[0m\u001b[0mobj\u001b[0m\u001b[0;34m,\u001b[0m \u001b[0mfeval\u001b[0m\u001b[0;34m=\u001b[0m\u001b[0mfeval\u001b[0m\u001b[0;34m,\u001b[0m\u001b[0;34m\u001b[0m\u001b[0;34m\u001b[0m\u001b[0m\n\u001b[1;32m    699\u001b[0m                               \u001b[0mverbose_eval\u001b[0m\u001b[0;34m=\u001b[0m\u001b[0mverbose\u001b[0m\u001b[0;34m,\u001b[0m \u001b[0mxgb_model\u001b[0m\u001b[0;34m=\u001b[0m\u001b[0;32mNone\u001b[0m\u001b[0;34m,\u001b[0m\u001b[0;34m\u001b[0m\u001b[0;34m\u001b[0m\u001b[0m\n\u001b[0;32m--> 700\u001b[0;31m                               callbacks=callbacks)\n\u001b[0m\u001b[1;32m    701\u001b[0m \u001b[0;34m\u001b[0m\u001b[0m\n\u001b[1;32m    702\u001b[0m         \u001b[0mself\u001b[0m\u001b[0;34m.\u001b[0m\u001b[0mobjective\u001b[0m \u001b[0;34m=\u001b[0m \u001b[0mxgb_options\u001b[0m\u001b[0;34m[\u001b[0m\u001b[0;34m\"objective\"\u001b[0m\u001b[0;34m]\u001b[0m\u001b[0;34m\u001b[0m\u001b[0;34m\u001b[0m\u001b[0m\n",
      "\u001b[0;32m~/anaconda3/lib/python3.6/site-packages/xgboost/training.py\u001b[0m in \u001b[0;36mtrain\u001b[0;34m(params, dtrain, num_boost_round, evals, obj, feval, maximize, early_stopping_rounds, evals_result, verbose_eval, xgb_model, callbacks, learning_rates)\u001b[0m\n\u001b[1;32m    214\u001b[0m                            \u001b[0mevals\u001b[0m\u001b[0;34m=\u001b[0m\u001b[0mevals\u001b[0m\u001b[0;34m,\u001b[0m\u001b[0;34m\u001b[0m\u001b[0;34m\u001b[0m\u001b[0m\n\u001b[1;32m    215\u001b[0m                            \u001b[0mobj\u001b[0m\u001b[0;34m=\u001b[0m\u001b[0mobj\u001b[0m\u001b[0;34m,\u001b[0m \u001b[0mfeval\u001b[0m\u001b[0;34m=\u001b[0m\u001b[0mfeval\u001b[0m\u001b[0;34m,\u001b[0m\u001b[0;34m\u001b[0m\u001b[0;34m\u001b[0m\u001b[0m\n\u001b[0;32m--> 216\u001b[0;31m                            xgb_model=xgb_model, callbacks=callbacks)\n\u001b[0m\u001b[1;32m    217\u001b[0m \u001b[0;34m\u001b[0m\u001b[0m\n\u001b[1;32m    218\u001b[0m \u001b[0;34m\u001b[0m\u001b[0m\n",
      "\u001b[0;32m~/anaconda3/lib/python3.6/site-packages/xgboost/training.py\u001b[0m in \u001b[0;36m_train_internal\u001b[0;34m(params, dtrain, num_boost_round, evals, obj, feval, xgb_model, callbacks)\u001b[0m\n\u001b[1;32m     72\u001b[0m         \u001b[0;31m# Skip the first update if it is a recovery step.\u001b[0m\u001b[0;34m\u001b[0m\u001b[0;34m\u001b[0m\u001b[0;34m\u001b[0m\u001b[0m\n\u001b[1;32m     73\u001b[0m         \u001b[0;32mif\u001b[0m \u001b[0mversion\u001b[0m \u001b[0;34m%\u001b[0m \u001b[0;36m2\u001b[0m \u001b[0;34m==\u001b[0m \u001b[0;36m0\u001b[0m\u001b[0;34m:\u001b[0m\u001b[0;34m\u001b[0m\u001b[0;34m\u001b[0m\u001b[0m\n\u001b[0;32m---> 74\u001b[0;31m             \u001b[0mbst\u001b[0m\u001b[0;34m.\u001b[0m\u001b[0mupdate\u001b[0m\u001b[0;34m(\u001b[0m\u001b[0mdtrain\u001b[0m\u001b[0;34m,\u001b[0m \u001b[0mi\u001b[0m\u001b[0;34m,\u001b[0m \u001b[0mobj\u001b[0m\u001b[0;34m)\u001b[0m\u001b[0;34m\u001b[0m\u001b[0;34m\u001b[0m\u001b[0m\n\u001b[0m\u001b[1;32m     75\u001b[0m             \u001b[0mbst\u001b[0m\u001b[0;34m.\u001b[0m\u001b[0msave_rabit_checkpoint\u001b[0m\u001b[0;34m(\u001b[0m\u001b[0;34m)\u001b[0m\u001b[0;34m\u001b[0m\u001b[0;34m\u001b[0m\u001b[0m\n\u001b[1;32m     76\u001b[0m             \u001b[0mversion\u001b[0m \u001b[0;34m+=\u001b[0m \u001b[0;36m1\u001b[0m\u001b[0;34m\u001b[0m\u001b[0;34m\u001b[0m\u001b[0m\n",
      "\u001b[0;32m~/anaconda3/lib/python3.6/site-packages/xgboost/core.py\u001b[0m in \u001b[0;36mupdate\u001b[0;34m(self, dtrain, iteration, fobj)\u001b[0m\n\u001b[1;32m   1043\u001b[0m         \u001b[0;32mif\u001b[0m \u001b[0mfobj\u001b[0m \u001b[0;32mis\u001b[0m \u001b[0;32mNone\u001b[0m\u001b[0;34m:\u001b[0m\u001b[0;34m\u001b[0m\u001b[0;34m\u001b[0m\u001b[0m\n\u001b[1;32m   1044\u001b[0m             _check_call(_LIB.XGBoosterUpdateOneIter(self.handle, ctypes.c_int(iteration),\n\u001b[0;32m-> 1045\u001b[0;31m                                                     dtrain.handle))\n\u001b[0m\u001b[1;32m   1046\u001b[0m         \u001b[0;32melse\u001b[0m\u001b[0;34m:\u001b[0m\u001b[0;34m\u001b[0m\u001b[0;34m\u001b[0m\u001b[0m\n\u001b[1;32m   1047\u001b[0m             \u001b[0mpred\u001b[0m \u001b[0;34m=\u001b[0m \u001b[0mself\u001b[0m\u001b[0;34m.\u001b[0m\u001b[0mpredict\u001b[0m\u001b[0;34m(\u001b[0m\u001b[0mdtrain\u001b[0m\u001b[0;34m)\u001b[0m\u001b[0;34m\u001b[0m\u001b[0;34m\u001b[0m\u001b[0m\n",
      "\u001b[0;32m~/anaconda3/lib/python3.6/site-packages/xgboost/core.py\u001b[0m in \u001b[0;36m_check_call\u001b[0;34m(ret)\u001b[0m\n\u001b[1;32m    163\u001b[0m     \"\"\"\n\u001b[1;32m    164\u001b[0m     \u001b[0;32mif\u001b[0m \u001b[0mret\u001b[0m \u001b[0;34m!=\u001b[0m \u001b[0;36m0\u001b[0m\u001b[0;34m:\u001b[0m\u001b[0;34m\u001b[0m\u001b[0;34m\u001b[0m\u001b[0m\n\u001b[0;32m--> 165\u001b[0;31m         \u001b[0;32mraise\u001b[0m \u001b[0mXGBoostError\u001b[0m\u001b[0;34m(\u001b[0m\u001b[0m_LIB\u001b[0m\u001b[0;34m.\u001b[0m\u001b[0mXGBGetLastError\u001b[0m\u001b[0;34m(\u001b[0m\u001b[0;34m)\u001b[0m\u001b[0;34m)\u001b[0m\u001b[0;34m\u001b[0m\u001b[0;34m\u001b[0m\u001b[0m\n\u001b[0m\u001b[1;32m    166\u001b[0m \u001b[0;34m\u001b[0m\u001b[0m\n\u001b[1;32m    167\u001b[0m \u001b[0;34m\u001b[0m\u001b[0m\n",
      "\u001b[0;31mXGBoostError\u001b[0m: b'[20:50:06] src/objective/regression_obj.cu:66: Check failed: preds.Size() == info.labels_.Size() (4 vs. 10) labels are not correctly providedpreds.size=4, label.size=10\\n\\nStack trace returned 7 entries:\\n[bt] (0) 0   libxgboost.dylib                    0x0000001a20f51b01 dmlc::StackTrace() + 305\\n[bt] (1) 1   libxgboost.dylib                    0x0000001a20f5188f dmlc::LogMessageFatal::~LogMessageFatal() + 47\\n[bt] (2) 2   libxgboost.dylib                    0x0000001a20fcf1ee xgboost::obj::RegLossObj<xgboost::obj::LogisticClassification>::GetGradient(xgboost::HostDeviceVector<float> const&, xgboost::MetaInfo const&, int, xgboost::HostDeviceVector<xgboost::detail::GradientPairInternal<float> >*) + 606\\n[bt] (3) 3   libxgboost.dylib                    0x0000001a20f4d7d6 xgboost::LearnerImpl::UpdateOneIter(int, xgboost::DMatrix*) + 1014\\n[bt] (4) 4   libxgboost.dylib                    0x0000001a20f6aaac XGBoosterUpdateOneIter + 172\\n[bt] (5) 5   libffi.6.dylib                      0x000000010bf66884 ffi_call_unix64 + 76\\n[bt] (6) 6   ???                                 0x00007ffee5991100 0x0 + 140732750434560\\n\\n'"
     ]
    }
   ],
   "source": [
    "feature = np.array([np.linspace(1,10,10),np.linspace(16,25,10),\n",
    "                          np.linspace(91,100,10),np.linspace(28,37,10)])\n",
    "y = np.random.randint(0,2,10)\n",
    "model = xgb.XGBClassifier(objective= 'binary:logistic')\n",
    "model.fit(feature,y)"
   ]
  },
  {
   "cell_type": "code",
   "execution_count": 30,
   "metadata": {},
   "outputs": [
    {
     "data": {
      "text/plain": [
       "array([1, 0, 0, 0, 0, 1, 1, 1, 0, 1])"
      ]
     },
     "execution_count": 30,
     "metadata": {},
     "output_type": "execute_result"
    }
   ],
   "source": [
    "np.random.randint(0,2,10)"
   ]
  },
  {
   "cell_type": "code",
   "execution_count": 35,
   "metadata": {},
   "outputs": [
    {
     "data": {
      "text/plain": [
       "array([[[  1.],\n",
       "        [  2.],\n",
       "        [  3.],\n",
       "        [  4.],\n",
       "        [  5.],\n",
       "        [  6.],\n",
       "        [  7.],\n",
       "        [  8.],\n",
       "        [  9.],\n",
       "        [ 10.]],\n",
       "\n",
       "       [[ 16.],\n",
       "        [ 17.],\n",
       "        [ 18.],\n",
       "        [ 19.],\n",
       "        [ 20.],\n",
       "        [ 21.],\n",
       "        [ 22.],\n",
       "        [ 23.],\n",
       "        [ 24.],\n",
       "        [ 25.]],\n",
       "\n",
       "       [[ 91.],\n",
       "        [ 92.],\n",
       "        [ 93.],\n",
       "        [ 94.],\n",
       "        [ 95.],\n",
       "        [ 96.],\n",
       "        [ 97.],\n",
       "        [ 98.],\n",
       "        [ 99.],\n",
       "        [100.]],\n",
       "\n",
       "       [[ 28.],\n",
       "        [ 29.],\n",
       "        [ 30.],\n",
       "        [ 31.],\n",
       "        [ 32.],\n",
       "        [ 33.],\n",
       "        [ 34.],\n",
       "        [ 35.],\n",
       "        [ 36.],\n",
       "        [ 37.]]])"
      ]
     },
     "execution_count": 35,
     "metadata": {},
     "output_type": "execute_result"
    }
   ],
   "source": [
    "feature = np.array([np.linspace(1,10,10).reshape(-1,1),np.linspace(16,25,10).reshape(-1,1),\n",
    "                          np.linspace(91,100,10).reshape(-1,1),np.linspace(28,37,10).reshape(-1,1)])\n",
    "feature"
   ]
  },
  {
   "cell_type": "code",
   "execution_count": null,
   "metadata": {},
   "outputs": [],
   "source": []
  }
 ],
 "metadata": {
  "colab": {
   "name": "QUORA.ipynb",
   "provenance": [],
   "version": "0.3.2"
  },
  "kernelspec": {
   "display_name": "Python 3",
   "language": "python",
   "name": "python3"
  },
  "language_info": {
   "codemirror_mode": {
    "name": "ipython",
    "version": 3
   },
   "file_extension": ".py",
   "mimetype": "text/x-python",
   "name": "python",
   "nbconvert_exporter": "python",
   "pygments_lexer": "ipython3",
   "version": "3.6.8"
  }
 },
 "nbformat": 4,
 "nbformat_minor": 1
}

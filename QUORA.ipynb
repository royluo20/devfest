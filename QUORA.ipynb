{
 "cells": [
  {
   "cell_type": "code",
   "execution_count": 48,
   "metadata": {
    "colab": {},
    "colab_type": "code",
    "id": "Bjd0vL4_FH29"
   },
   "outputs": [],
   "source": [
    "import pandas as pd\n",
    "import numpy as np\n",
    "import matplotlib.pyplot as plt\n",
    "import xgboost as xgb\n",
    "from textblob import TextBlob\n",
    "%matplotlib inline"
   ]
  },
  {
   "cell_type": "code",
   "execution_count": 2,
   "metadata": {
    "colab": {
     "base_uri": "https://localhost:8080/",
     "height": 837
    },
    "colab_type": "code",
    "id": "CXOoRpBzFeNi",
    "outputId": "4bc3321a-22b5-48ee-b57e-041bc41832a0"
   },
   "outputs": [
    {
     "data": {
      "text/plain": [
       "\"feature = np.array([np.linspace(1,10,10),np.linspace(16,25,10),\\n                          np.linspace(91,100,10),np.linspace(28,37,10)])\\nfeature = np.transpose(feature)\\ny = np.random.randint(0,2,10)\\nmodel = xgb.XGBClassifier(objective= 'binary:logistic')\\nmodel.fit(feature,y)\""
      ]
     },
     "execution_count": 2,
     "metadata": {},
     "output_type": "execute_result"
    }
   ],
   "source": [
    "train = pd.read_csv(\"train.csv\")\n",
    "test = pd.read_csv(\"test.csv\")\n",
    "train.head(25)\n",
    "train.shape\n",
    "\n",
    "'''feature = np.array([np.linspace(1,10,10),np.linspace(16,25,10),\n",
    "                          np.linspace(91,100,10),np.linspace(28,37,10)])\n",
    "feature = np.transpose(feature)\n",
    "y = np.random.randint(0,2,10)\n",
    "model = xgb.XGBClassifier(objective= 'binary:logistic')\n",
    "model.fit(feature,y)'''"
   ]
  },
  {
   "cell_type": "code",
   "execution_count": 82,
   "metadata": {},
   "outputs": [],
   "source": [
    "train_exp1 = train.loc[1:10,:]\n",
    "\n",
    "train_exp1.loc[:,'polarity'] = train_exp1['question_text'].apply(lambda x: TextBlob(x).sentiment.polarity)\n",
    "train_exp1.loc[:,'subjectivity'] = train_exp1['question_text'].apply(lambda x: TextBlob(x).sentiment.subjectivity)\n",
    "#train_exp1.loc[:,'polarity'] = train_exp1['question_text'].apply(lambda x: TextBlob(x).sentiment.polarity)"
   ]
  },
  {
   "cell_type": "code",
   "execution_count": 71,
   "metadata": {},
   "outputs": [
    {
     "data": {
      "text/html": [
       "<div>\n",
       "<style scoped>\n",
       "    .dataframe tbody tr th:only-of-type {\n",
       "        vertical-align: middle;\n",
       "    }\n",
       "\n",
       "    .dataframe tbody tr th {\n",
       "        vertical-align: top;\n",
       "    }\n",
       "\n",
       "    .dataframe thead th {\n",
       "        text-align: right;\n",
       "    }\n",
       "</style>\n",
       "<table border=\"1\" class=\"dataframe\">\n",
       "  <thead>\n",
       "    <tr style=\"text-align: right;\">\n",
       "      <th></th>\n",
       "      <th>qid</th>\n",
       "      <th>question_text</th>\n",
       "      <th>target</th>\n",
       "      <th>period_count</th>\n",
       "      <th>word_length</th>\n",
       "      <th>char_length</th>\n",
       "      <th>polarity</th>\n",
       "      <th>subjectivity</th>\n",
       "    </tr>\n",
       "  </thead>\n",
       "  <tbody>\n",
       "    <tr>\n",
       "      <th>1</th>\n",
       "      <td>000032939017120e6e44</td>\n",
       "      <td>Do you have an adopted dog, how would you enco...</td>\n",
       "      <td>0</td>\n",
       "      <td>0</td>\n",
       "      <td>16</td>\n",
       "      <td>81</td>\n",
       "      <td>0.000</td>\n",
       "      <td>0.000</td>\n",
       "    </tr>\n",
       "    <tr>\n",
       "      <th>2</th>\n",
       "      <td>0000412ca6e4628ce2cf</td>\n",
       "      <td>Why does velocity affect time? Does velocity a...</td>\n",
       "      <td>0</td>\n",
       "      <td>0</td>\n",
       "      <td>10</td>\n",
       "      <td>67</td>\n",
       "      <td>0.000</td>\n",
       "      <td>0.000</td>\n",
       "    </tr>\n",
       "    <tr>\n",
       "      <th>3</th>\n",
       "      <td>000042bf85aa498cd78e</td>\n",
       "      <td>How did Otto von Guericke used the Magdeburg h...</td>\n",
       "      <td>0</td>\n",
       "      <td>0</td>\n",
       "      <td>9</td>\n",
       "      <td>57</td>\n",
       "      <td>0.000</td>\n",
       "      <td>0.000</td>\n",
       "    </tr>\n",
       "    <tr>\n",
       "      <th>4</th>\n",
       "      <td>0000455dfa3e01eae3af</td>\n",
       "      <td>Can I convert montra helicon D to a mountain b...</td>\n",
       "      <td>0</td>\n",
       "      <td>0</td>\n",
       "      <td>15</td>\n",
       "      <td>77</td>\n",
       "      <td>0.000</td>\n",
       "      <td>0.000</td>\n",
       "    </tr>\n",
       "    <tr>\n",
       "      <th>5</th>\n",
       "      <td>00004f9a462a357c33be</td>\n",
       "      <td>Is Gaza slowly becoming Auschwitz, Dachau or T...</td>\n",
       "      <td>0</td>\n",
       "      <td>0</td>\n",
       "      <td>10</td>\n",
       "      <td>72</td>\n",
       "      <td>0.450</td>\n",
       "      <td>0.850</td>\n",
       "    </tr>\n",
       "    <tr>\n",
       "      <th>6</th>\n",
       "      <td>00005059a06ee19e11ad</td>\n",
       "      <td>Why does Quora automatically ban conservative ...</td>\n",
       "      <td>0</td>\n",
       "      <td>0</td>\n",
       "      <td>18</td>\n",
       "      <td>113</td>\n",
       "      <td>0.000</td>\n",
       "      <td>0.125</td>\n",
       "    </tr>\n",
       "    <tr>\n",
       "      <th>7</th>\n",
       "      <td>0000559f875832745e2e</td>\n",
       "      <td>Is it crazy if I wash or wipe my groceries off...</td>\n",
       "      <td>0</td>\n",
       "      <td>1</td>\n",
       "      <td>14</td>\n",
       "      <td>69</td>\n",
       "      <td>-0.600</td>\n",
       "      <td>0.900</td>\n",
       "    </tr>\n",
       "    <tr>\n",
       "      <th>8</th>\n",
       "      <td>00005bd3426b2d0c8305</td>\n",
       "      <td>Is there such a thing as dressing moderately, ...</td>\n",
       "      <td>0</td>\n",
       "      <td>0</td>\n",
       "      <td>18</td>\n",
       "      <td>102</td>\n",
       "      <td>0.025</td>\n",
       "      <td>0.675</td>\n",
       "    </tr>\n",
       "    <tr>\n",
       "      <th>9</th>\n",
       "      <td>00006e6928c5df60eacb</td>\n",
       "      <td>Is it just me or have you ever been in this ph...</td>\n",
       "      <td>0</td>\n",
       "      <td>1</td>\n",
       "      <td>44</td>\n",
       "      <td>246</td>\n",
       "      <td>0.400</td>\n",
       "      <td>0.600</td>\n",
       "    </tr>\n",
       "    <tr>\n",
       "      <th>10</th>\n",
       "      <td>000075f67dd595c3deb5</td>\n",
       "      <td>What can you say about feminism?</td>\n",
       "      <td>0</td>\n",
       "      <td>0</td>\n",
       "      <td>6</td>\n",
       "      <td>32</td>\n",
       "      <td>0.000</td>\n",
       "      <td>0.000</td>\n",
       "    </tr>\n",
       "  </tbody>\n",
       "</table>\n",
       "</div>"
      ],
      "text/plain": [
       "                     qid                                      question_text  \\\n",
       "1   000032939017120e6e44  Do you have an adopted dog, how would you enco...   \n",
       "2   0000412ca6e4628ce2cf  Why does velocity affect time? Does velocity a...   \n",
       "3   000042bf85aa498cd78e  How did Otto von Guericke used the Magdeburg h...   \n",
       "4   0000455dfa3e01eae3af  Can I convert montra helicon D to a mountain b...   \n",
       "5   00004f9a462a357c33be  Is Gaza slowly becoming Auschwitz, Dachau or T...   \n",
       "6   00005059a06ee19e11ad  Why does Quora automatically ban conservative ...   \n",
       "7   0000559f875832745e2e  Is it crazy if I wash or wipe my groceries off...   \n",
       "8   00005bd3426b2d0c8305  Is there such a thing as dressing moderately, ...   \n",
       "9   00006e6928c5df60eacb  Is it just me or have you ever been in this ph...   \n",
       "10  000075f67dd595c3deb5                   What can you say about feminism?   \n",
       "\n",
       "    target  period_count  word_length  char_length  polarity  subjectivity  \n",
       "1        0             0           16           81     0.000         0.000  \n",
       "2        0             0           10           67     0.000         0.000  \n",
       "3        0             0            9           57     0.000         0.000  \n",
       "4        0             0           15           77     0.000         0.000  \n",
       "5        0             0           10           72     0.450         0.850  \n",
       "6        0             0           18          113     0.000         0.125  \n",
       "7        0             1           14           69    -0.600         0.900  \n",
       "8        0             0           18          102     0.025         0.675  \n",
       "9        0             1           44          246     0.400         0.600  \n",
       "10       0             0            6           32     0.000         0.000  "
      ]
     },
     "execution_count": 71,
     "metadata": {},
     "output_type": "execute_result"
    }
   ],
   "source": [
    "train_exp1"
   ]
  },
  {
   "cell_type": "code",
   "execution_count": 89,
   "metadata": {
    "colab": {
     "base_uri": "https://localhost:8080/",
     "height": 212
    },
    "colab_type": "code",
    "id": "Cet2gJBtF-Yo",
    "outputId": "ee12c39d-7813-46cd-ce10-86e44495debe"
   },
   "outputs": [
    {
     "ename": "KeyboardInterrupt",
     "evalue": "",
     "output_type": "error",
     "traceback": [
      "\u001b[0;31m---------------------------------------------------------------------------\u001b[0m",
      "\u001b[0;31mKeyboardInterrupt\u001b[0m                         Traceback (most recent call last)",
      "\u001b[0;32m<ipython-input-89-be3da94d7af1>\u001b[0m in \u001b[0;36m<module>\u001b[0;34m\u001b[0m\n\u001b[1;32m      3\u001b[0m \u001b[0;31m#train['char_length'] = train['question_text'].apply(lambda x: len(x))\u001b[0m\u001b[0;34m\u001b[0m\u001b[0;34m\u001b[0m\u001b[0;34m\u001b[0m\u001b[0m\n\u001b[1;32m      4\u001b[0m \u001b[0mtrain\u001b[0m\u001b[0;34m.\u001b[0m\u001b[0mloc\u001b[0m\u001b[0;34m[\u001b[0m\u001b[0;34m:\u001b[0m\u001b[0;34m,\u001b[0m\u001b[0;34m'polarity'\u001b[0m\u001b[0;34m]\u001b[0m \u001b[0;34m=\u001b[0m \u001b[0mtrain\u001b[0m\u001b[0;34m[\u001b[0m\u001b[0;34m'question_text'\u001b[0m\u001b[0;34m]\u001b[0m\u001b[0;34m.\u001b[0m\u001b[0mapply\u001b[0m\u001b[0;34m(\u001b[0m\u001b[0;32mlambda\u001b[0m \u001b[0mx\u001b[0m\u001b[0;34m:\u001b[0m \u001b[0mTextBlob\u001b[0m\u001b[0;34m(\u001b[0m\u001b[0mx\u001b[0m\u001b[0;34m)\u001b[0m\u001b[0;34m.\u001b[0m\u001b[0msentiment\u001b[0m\u001b[0;34m.\u001b[0m\u001b[0mpolarity\u001b[0m\u001b[0;34m)\u001b[0m\u001b[0;34m\u001b[0m\u001b[0;34m\u001b[0m\u001b[0m\n\u001b[0;32m----> 5\u001b[0;31m \u001b[0mtrain\u001b[0m\u001b[0;34m.\u001b[0m\u001b[0mloc\u001b[0m\u001b[0;34m[\u001b[0m\u001b[0;34m:\u001b[0m\u001b[0;34m,\u001b[0m\u001b[0;34m'subjectivity'\u001b[0m\u001b[0;34m]\u001b[0m \u001b[0;34m=\u001b[0m \u001b[0mtrain\u001b[0m\u001b[0;34m[\u001b[0m\u001b[0;34m'question_text'\u001b[0m\u001b[0;34m]\u001b[0m\u001b[0;34m.\u001b[0m\u001b[0mapply\u001b[0m\u001b[0;34m(\u001b[0m\u001b[0;32mlambda\u001b[0m \u001b[0mx\u001b[0m\u001b[0;34m:\u001b[0m \u001b[0mTextBlob\u001b[0m\u001b[0;34m(\u001b[0m\u001b[0mx\u001b[0m\u001b[0;34m)\u001b[0m\u001b[0;34m.\u001b[0m\u001b[0msentiment\u001b[0m\u001b[0;34m.\u001b[0m\u001b[0msubjectivity\u001b[0m\u001b[0;34m)\u001b[0m\u001b[0;34m\u001b[0m\u001b[0;34m\u001b[0m\u001b[0m\n\u001b[0m\u001b[1;32m      6\u001b[0m \u001b[0mtrain\u001b[0m\u001b[0;34m.\u001b[0m\u001b[0mhead\u001b[0m\u001b[0;34m(\u001b[0m\u001b[0;34m)\u001b[0m\u001b[0;34m\u001b[0m\u001b[0;34m\u001b[0m\u001b[0m\n",
      "\u001b[0;32m~/anaconda3/envs/devfest/lib/python3.6/site-packages/pandas/core/series.py\u001b[0m in \u001b[0;36mapply\u001b[0;34m(self, func, convert_dtype, args, **kwds)\u001b[0m\n\u001b[1;32m   3589\u001b[0m             \u001b[0;32melse\u001b[0m\u001b[0;34m:\u001b[0m\u001b[0;34m\u001b[0m\u001b[0;34m\u001b[0m\u001b[0m\n\u001b[1;32m   3590\u001b[0m                 \u001b[0mvalues\u001b[0m \u001b[0;34m=\u001b[0m \u001b[0mself\u001b[0m\u001b[0;34m.\u001b[0m\u001b[0mastype\u001b[0m\u001b[0;34m(\u001b[0m\u001b[0mobject\u001b[0m\u001b[0;34m)\u001b[0m\u001b[0;34m.\u001b[0m\u001b[0mvalues\u001b[0m\u001b[0;34m\u001b[0m\u001b[0;34m\u001b[0m\u001b[0m\n\u001b[0;32m-> 3591\u001b[0;31m                 \u001b[0mmapped\u001b[0m \u001b[0;34m=\u001b[0m \u001b[0mlib\u001b[0m\u001b[0;34m.\u001b[0m\u001b[0mmap_infer\u001b[0m\u001b[0;34m(\u001b[0m\u001b[0mvalues\u001b[0m\u001b[0;34m,\u001b[0m \u001b[0mf\u001b[0m\u001b[0;34m,\u001b[0m \u001b[0mconvert\u001b[0m\u001b[0;34m=\u001b[0m\u001b[0mconvert_dtype\u001b[0m\u001b[0;34m)\u001b[0m\u001b[0;34m\u001b[0m\u001b[0;34m\u001b[0m\u001b[0m\n\u001b[0m\u001b[1;32m   3592\u001b[0m \u001b[0;34m\u001b[0m\u001b[0m\n\u001b[1;32m   3593\u001b[0m         \u001b[0;32mif\u001b[0m \u001b[0mlen\u001b[0m\u001b[0;34m(\u001b[0m\u001b[0mmapped\u001b[0m\u001b[0;34m)\u001b[0m \u001b[0;32mand\u001b[0m \u001b[0misinstance\u001b[0m\u001b[0;34m(\u001b[0m\u001b[0mmapped\u001b[0m\u001b[0;34m[\u001b[0m\u001b[0;36m0\u001b[0m\u001b[0;34m]\u001b[0m\u001b[0;34m,\u001b[0m \u001b[0mSeries\u001b[0m\u001b[0;34m)\u001b[0m\u001b[0;34m:\u001b[0m\u001b[0;34m\u001b[0m\u001b[0;34m\u001b[0m\u001b[0m\n",
      "\u001b[0;32mpandas/_libs/lib.pyx\u001b[0m in \u001b[0;36mpandas._libs.lib.map_infer\u001b[0;34m()\u001b[0m\n",
      "\u001b[0;32m<ipython-input-89-be3da94d7af1>\u001b[0m in \u001b[0;36m<lambda>\u001b[0;34m(x)\u001b[0m\n\u001b[1;32m      3\u001b[0m \u001b[0;31m#train['char_length'] = train['question_text'].apply(lambda x: len(x))\u001b[0m\u001b[0;34m\u001b[0m\u001b[0;34m\u001b[0m\u001b[0;34m\u001b[0m\u001b[0m\n\u001b[1;32m      4\u001b[0m \u001b[0mtrain\u001b[0m\u001b[0;34m.\u001b[0m\u001b[0mloc\u001b[0m\u001b[0;34m[\u001b[0m\u001b[0;34m:\u001b[0m\u001b[0;34m,\u001b[0m\u001b[0;34m'polarity'\u001b[0m\u001b[0;34m]\u001b[0m \u001b[0;34m=\u001b[0m \u001b[0mtrain\u001b[0m\u001b[0;34m[\u001b[0m\u001b[0;34m'question_text'\u001b[0m\u001b[0;34m]\u001b[0m\u001b[0;34m.\u001b[0m\u001b[0mapply\u001b[0m\u001b[0;34m(\u001b[0m\u001b[0;32mlambda\u001b[0m \u001b[0mx\u001b[0m\u001b[0;34m:\u001b[0m \u001b[0mTextBlob\u001b[0m\u001b[0;34m(\u001b[0m\u001b[0mx\u001b[0m\u001b[0;34m)\u001b[0m\u001b[0;34m.\u001b[0m\u001b[0msentiment\u001b[0m\u001b[0;34m.\u001b[0m\u001b[0mpolarity\u001b[0m\u001b[0;34m)\u001b[0m\u001b[0;34m\u001b[0m\u001b[0;34m\u001b[0m\u001b[0m\n\u001b[0;32m----> 5\u001b[0;31m \u001b[0mtrain\u001b[0m\u001b[0;34m.\u001b[0m\u001b[0mloc\u001b[0m\u001b[0;34m[\u001b[0m\u001b[0;34m:\u001b[0m\u001b[0;34m,\u001b[0m\u001b[0;34m'subjectivity'\u001b[0m\u001b[0;34m]\u001b[0m \u001b[0;34m=\u001b[0m \u001b[0mtrain\u001b[0m\u001b[0;34m[\u001b[0m\u001b[0;34m'question_text'\u001b[0m\u001b[0;34m]\u001b[0m\u001b[0;34m.\u001b[0m\u001b[0mapply\u001b[0m\u001b[0;34m(\u001b[0m\u001b[0;32mlambda\u001b[0m \u001b[0mx\u001b[0m\u001b[0;34m:\u001b[0m \u001b[0mTextBlob\u001b[0m\u001b[0;34m(\u001b[0m\u001b[0mx\u001b[0m\u001b[0;34m)\u001b[0m\u001b[0;34m.\u001b[0m\u001b[0msentiment\u001b[0m\u001b[0;34m.\u001b[0m\u001b[0msubjectivity\u001b[0m\u001b[0;34m)\u001b[0m\u001b[0;34m\u001b[0m\u001b[0;34m\u001b[0m\u001b[0m\n\u001b[0m\u001b[1;32m      6\u001b[0m \u001b[0mtrain\u001b[0m\u001b[0;34m.\u001b[0m\u001b[0mhead\u001b[0m\u001b[0;34m(\u001b[0m\u001b[0;34m)\u001b[0m\u001b[0;34m\u001b[0m\u001b[0;34m\u001b[0m\u001b[0m\n",
      "\u001b[0;32m~/anaconda3/envs/devfest/lib/python3.6/site-packages/textblob/decorators.py\u001b[0m in \u001b[0;36m__get__\u001b[0;34m(self, obj, cls)\u001b[0m\n\u001b[1;32m     22\u001b[0m         \u001b[0;32mif\u001b[0m \u001b[0mobj\u001b[0m \u001b[0;32mis\u001b[0m \u001b[0;32mNone\u001b[0m\u001b[0;34m:\u001b[0m\u001b[0;34m\u001b[0m\u001b[0;34m\u001b[0m\u001b[0m\n\u001b[1;32m     23\u001b[0m             \u001b[0;32mreturn\u001b[0m \u001b[0mself\u001b[0m\u001b[0;34m\u001b[0m\u001b[0;34m\u001b[0m\u001b[0m\n\u001b[0;32m---> 24\u001b[0;31m         \u001b[0mvalue\u001b[0m \u001b[0;34m=\u001b[0m \u001b[0mobj\u001b[0m\u001b[0;34m.\u001b[0m\u001b[0m__dict__\u001b[0m\u001b[0;34m[\u001b[0m\u001b[0mself\u001b[0m\u001b[0;34m.\u001b[0m\u001b[0mfunc\u001b[0m\u001b[0;34m.\u001b[0m\u001b[0m__name__\u001b[0m\u001b[0;34m]\u001b[0m \u001b[0;34m=\u001b[0m \u001b[0mself\u001b[0m\u001b[0;34m.\u001b[0m\u001b[0mfunc\u001b[0m\u001b[0;34m(\u001b[0m\u001b[0mobj\u001b[0m\u001b[0;34m)\u001b[0m\u001b[0;34m\u001b[0m\u001b[0;34m\u001b[0m\u001b[0m\n\u001b[0m\u001b[1;32m     25\u001b[0m         \u001b[0;32mreturn\u001b[0m \u001b[0mvalue\u001b[0m\u001b[0;34m\u001b[0m\u001b[0;34m\u001b[0m\u001b[0m\n\u001b[1;32m     26\u001b[0m \u001b[0;34m\u001b[0m\u001b[0m\n",
      "\u001b[0;32m~/anaconda3/envs/devfest/lib/python3.6/site-packages/textblob/blob.py\u001b[0m in \u001b[0;36msentiment\u001b[0;34m(self)\u001b[0m\n\u001b[1;32m    430\u001b[0m         \u001b[0;34m:\u001b[0m\u001b[0mrtype\u001b[0m\u001b[0;34m:\u001b[0m \u001b[0mnamedtuple\u001b[0m \u001b[0mof\u001b[0m \u001b[0mthe\u001b[0m \u001b[0mform\u001b[0m\u001b[0;31m \u001b[0m\u001b[0;31m`\u001b[0m\u001b[0;31m`\u001b[0m\u001b[0mSentiment\u001b[0m\u001b[0;34m(\u001b[0m\u001b[0mpolarity\u001b[0m\u001b[0;34m,\u001b[0m \u001b[0msubjectivity\u001b[0m\u001b[0;34m)\u001b[0m\u001b[0;31m`\u001b[0m\u001b[0;31m`\u001b[0m\u001b[0;34m\u001b[0m\u001b[0;34m\u001b[0m\u001b[0m\n\u001b[1;32m    431\u001b[0m         \"\"\"\n\u001b[0;32m--> 432\u001b[0;31m         \u001b[0;32mreturn\u001b[0m \u001b[0mself\u001b[0m\u001b[0;34m.\u001b[0m\u001b[0manalyzer\u001b[0m\u001b[0;34m.\u001b[0m\u001b[0manalyze\u001b[0m\u001b[0;34m(\u001b[0m\u001b[0mself\u001b[0m\u001b[0;34m.\u001b[0m\u001b[0mraw\u001b[0m\u001b[0;34m)\u001b[0m\u001b[0;34m\u001b[0m\u001b[0;34m\u001b[0m\u001b[0m\n\u001b[0m\u001b[1;32m    433\u001b[0m \u001b[0;34m\u001b[0m\u001b[0m\n\u001b[1;32m    434\u001b[0m     \u001b[0;34m@\u001b[0m\u001b[0mcached_property\u001b[0m\u001b[0;34m\u001b[0m\u001b[0;34m\u001b[0m\u001b[0m\n",
      "\u001b[0;32m~/anaconda3/envs/devfest/lib/python3.6/site-packages/textblob/en/sentiments.py\u001b[0m in \u001b[0;36manalyze\u001b[0;34m(self, text, keep_assessments)\u001b[0m\n\u001b[1;32m     42\u001b[0m         \u001b[0;32melse\u001b[0m\u001b[0;34m:\u001b[0m\u001b[0;34m\u001b[0m\u001b[0;34m\u001b[0m\u001b[0m\n\u001b[1;32m     43\u001b[0m             \u001b[0mSentiment\u001b[0m \u001b[0;34m=\u001b[0m \u001b[0mnamedtuple\u001b[0m\u001b[0;34m(\u001b[0m\u001b[0;34m'Sentiment'\u001b[0m\u001b[0;34m,\u001b[0m \u001b[0;34m[\u001b[0m\u001b[0;34m'polarity'\u001b[0m\u001b[0;34m,\u001b[0m \u001b[0;34m'subjectivity'\u001b[0m\u001b[0;34m]\u001b[0m\u001b[0;34m)\u001b[0m\u001b[0;34m\u001b[0m\u001b[0;34m\u001b[0m\u001b[0m\n\u001b[0;32m---> 44\u001b[0;31m             \u001b[0;32mreturn\u001b[0m \u001b[0mSentiment\u001b[0m\u001b[0;34m(\u001b[0m\u001b[0;34m*\u001b[0m\u001b[0mpattern_sentiment\u001b[0m\u001b[0;34m(\u001b[0m\u001b[0mtext\u001b[0m\u001b[0;34m)\u001b[0m\u001b[0;34m)\u001b[0m\u001b[0;34m\u001b[0m\u001b[0;34m\u001b[0m\u001b[0m\n\u001b[0m\u001b[1;32m     45\u001b[0m \u001b[0;34m\u001b[0m\u001b[0m\n\u001b[1;32m     46\u001b[0m \u001b[0;34m\u001b[0m\u001b[0m\n",
      "\u001b[0;32m~/anaconda3/envs/devfest/lib/python3.6/site-packages/textblob/_text.py\u001b[0m in \u001b[0;36m__call__\u001b[0;34m(self, s, negation, **kwargs)\u001b[0m\n\u001b[1;32m    849\u001b[0m         \u001b[0mweight\u001b[0m \u001b[0;34m=\u001b[0m \u001b[0mkwargs\u001b[0m\u001b[0;34m.\u001b[0m\u001b[0mget\u001b[0m\u001b[0;34m(\u001b[0m\u001b[0;34m\"weight\"\u001b[0m\u001b[0;34m,\u001b[0m \u001b[0;32mlambda\u001b[0m \u001b[0mw\u001b[0m\u001b[0;34m:\u001b[0m \u001b[0;36m1\u001b[0m\u001b[0;34m)\u001b[0m \u001b[0;31m# [(w, p) for w, p, s, x in a]\u001b[0m\u001b[0;34m\u001b[0m\u001b[0;34m\u001b[0m\u001b[0m\n\u001b[1;32m    850\u001b[0m         return Score(polarity = avg( [(w, p) for w, p, s, x in a], weight ),\n\u001b[0;32m--> 851\u001b[0;31m                  \u001b[0msubjectivity\u001b[0m \u001b[0;34m=\u001b[0m \u001b[0mavg\u001b[0m\u001b[0;34m(\u001b[0m\u001b[0;34m[\u001b[0m\u001b[0;34m(\u001b[0m\u001b[0mw\u001b[0m\u001b[0;34m,\u001b[0m \u001b[0ms\u001b[0m\u001b[0;34m)\u001b[0m \u001b[0;32mfor\u001b[0m \u001b[0mw\u001b[0m\u001b[0;34m,\u001b[0m \u001b[0mp\u001b[0m\u001b[0;34m,\u001b[0m \u001b[0ms\u001b[0m\u001b[0;34m,\u001b[0m \u001b[0mx\u001b[0m \u001b[0;32min\u001b[0m \u001b[0ma\u001b[0m\u001b[0;34m]\u001b[0m\u001b[0;34m,\u001b[0m \u001b[0mweight\u001b[0m\u001b[0;34m)\u001b[0m\u001b[0;34m,\u001b[0m\u001b[0;34m\u001b[0m\u001b[0;34m\u001b[0m\u001b[0m\n\u001b[0m\u001b[1;32m    852\u001b[0m                   assessments = a)\n\u001b[1;32m    853\u001b[0m \u001b[0;34m\u001b[0m\u001b[0m\n",
      "\u001b[0;31mKeyboardInterrupt\u001b[0m: "
     ]
    }
   ],
   "source": [
    "#train['period_count'] = train['question_text'].apply(lambda x: x.count(\".\"))\n",
    "#train['word_length'] = train['question_text'].apply(lambda x: len(x.split(\" \")))\n",
    "#train['char_length'] = train['question_text'].apply(lambda x: len(x))\n",
    "train.loc[:,'polarity'] = train['question_text'].apply(lambda x: TextBlob(x).sentiment.polarity)\n",
    "train.loc[:,'subjectivity'] = train['question_text'].apply(lambda x: TextBlob(x).sentiment.subjectivity)\n",
    "train.head()"
   ]
  },
  {
   "cell_type": "code",
   "execution_count": 18,
   "metadata": {},
   "outputs": [
    {
     "data": {
      "text/html": [
       "<div>\n",
       "<style scoped>\n",
       "    .dataframe tbody tr th:only-of-type {\n",
       "        vertical-align: middle;\n",
       "    }\n",
       "\n",
       "    .dataframe tbody tr th {\n",
       "        vertical-align: top;\n",
       "    }\n",
       "\n",
       "    .dataframe thead th {\n",
       "        text-align: right;\n",
       "    }\n",
       "</style>\n",
       "<table border=\"1\" class=\"dataframe\">\n",
       "  <thead>\n",
       "    <tr style=\"text-align: right;\">\n",
       "      <th></th>\n",
       "      <th>Unnamed: 0</th>\n",
       "      <th>qid</th>\n",
       "      <th>question_text</th>\n",
       "      <th>target</th>\n",
       "      <th>period_count</th>\n",
       "      <th>word_length</th>\n",
       "      <th>char_length</th>\n",
       "      <th>polarity</th>\n",
       "      <th>subjectivity</th>\n",
       "    </tr>\n",
       "  </thead>\n",
       "  <tbody>\n",
       "    <tr>\n",
       "      <th>0</th>\n",
       "      <td>0</td>\n",
       "      <td>00002165364db923c7e6</td>\n",
       "      <td>How did Quebec nationalists see their province...</td>\n",
       "      <td>0</td>\n",
       "      <td>0</td>\n",
       "      <td>13</td>\n",
       "      <td>72</td>\n",
       "      <td>0.000000</td>\n",
       "      <td>0.000000</td>\n",
       "    </tr>\n",
       "    <tr>\n",
       "      <th>1</th>\n",
       "      <td>1</td>\n",
       "      <td>000032939017120e6e44</td>\n",
       "      <td>Do you have an adopted dog, how would you enco...</td>\n",
       "      <td>0</td>\n",
       "      <td>0</td>\n",
       "      <td>16</td>\n",
       "      <td>81</td>\n",
       "      <td>0.000000</td>\n",
       "      <td>0.000000</td>\n",
       "    </tr>\n",
       "    <tr>\n",
       "      <th>2</th>\n",
       "      <td>2</td>\n",
       "      <td>0000412ca6e4628ce2cf</td>\n",
       "      <td>Why does velocity affect time? Does velocity a...</td>\n",
       "      <td>0</td>\n",
       "      <td>0</td>\n",
       "      <td>10</td>\n",
       "      <td>67</td>\n",
       "      <td>0.000000</td>\n",
       "      <td>0.000000</td>\n",
       "    </tr>\n",
       "    <tr>\n",
       "      <th>3</th>\n",
       "      <td>3</td>\n",
       "      <td>000042bf85aa498cd78e</td>\n",
       "      <td>How did Otto von Guericke used the Magdeburg h...</td>\n",
       "      <td>0</td>\n",
       "      <td>0</td>\n",
       "      <td>9</td>\n",
       "      <td>57</td>\n",
       "      <td>0.000000</td>\n",
       "      <td>0.000000</td>\n",
       "    </tr>\n",
       "    <tr>\n",
       "      <th>4</th>\n",
       "      <td>4</td>\n",
       "      <td>0000455dfa3e01eae3af</td>\n",
       "      <td>Can I convert montra helicon D to a mountain b...</td>\n",
       "      <td>0</td>\n",
       "      <td>0</td>\n",
       "      <td>15</td>\n",
       "      <td>77</td>\n",
       "      <td>0.000000</td>\n",
       "      <td>0.000000</td>\n",
       "    </tr>\n",
       "    <tr>\n",
       "      <th>5</th>\n",
       "      <td>5</td>\n",
       "      <td>00004f9a462a357c33be</td>\n",
       "      <td>Is Gaza slowly becoming Auschwitz, Dachau or T...</td>\n",
       "      <td>0</td>\n",
       "      <td>0</td>\n",
       "      <td>10</td>\n",
       "      <td>72</td>\n",
       "      <td>0.450000</td>\n",
       "      <td>0.850000</td>\n",
       "    </tr>\n",
       "    <tr>\n",
       "      <th>6</th>\n",
       "      <td>6</td>\n",
       "      <td>00005059a06ee19e11ad</td>\n",
       "      <td>Why does Quora automatically ban conservative ...</td>\n",
       "      <td>0</td>\n",
       "      <td>0</td>\n",
       "      <td>18</td>\n",
       "      <td>113</td>\n",
       "      <td>0.000000</td>\n",
       "      <td>0.125000</td>\n",
       "    </tr>\n",
       "    <tr>\n",
       "      <th>7</th>\n",
       "      <td>7</td>\n",
       "      <td>0000559f875832745e2e</td>\n",
       "      <td>Is it crazy if I wash or wipe my groceries off...</td>\n",
       "      <td>0</td>\n",
       "      <td>1</td>\n",
       "      <td>14</td>\n",
       "      <td>69</td>\n",
       "      <td>-0.600000</td>\n",
       "      <td>0.900000</td>\n",
       "    </tr>\n",
       "    <tr>\n",
       "      <th>8</th>\n",
       "      <td>8</td>\n",
       "      <td>00005bd3426b2d0c8305</td>\n",
       "      <td>Is there such a thing as dressing moderately, ...</td>\n",
       "      <td>0</td>\n",
       "      <td>0</td>\n",
       "      <td>18</td>\n",
       "      <td>102</td>\n",
       "      <td>0.025000</td>\n",
       "      <td>0.675000</td>\n",
       "    </tr>\n",
       "    <tr>\n",
       "      <th>9</th>\n",
       "      <td>9</td>\n",
       "      <td>00006e6928c5df60eacb</td>\n",
       "      <td>Is it just me or have you ever been in this ph...</td>\n",
       "      <td>0</td>\n",
       "      <td>1</td>\n",
       "      <td>44</td>\n",
       "      <td>246</td>\n",
       "      <td>0.400000</td>\n",
       "      <td>0.600000</td>\n",
       "    </tr>\n",
       "    <tr>\n",
       "      <th>10</th>\n",
       "      <td>10</td>\n",
       "      <td>000075f67dd595c3deb5</td>\n",
       "      <td>What can you say about feminism?</td>\n",
       "      <td>0</td>\n",
       "      <td>0</td>\n",
       "      <td>6</td>\n",
       "      <td>32</td>\n",
       "      <td>0.000000</td>\n",
       "      <td>0.000000</td>\n",
       "    </tr>\n",
       "    <tr>\n",
       "      <th>11</th>\n",
       "      <td>11</td>\n",
       "      <td>000076f3b42776c692de</td>\n",
       "      <td>How were the Calgary Flames founded?</td>\n",
       "      <td>0</td>\n",
       "      <td>0</td>\n",
       "      <td>6</td>\n",
       "      <td>36</td>\n",
       "      <td>0.000000</td>\n",
       "      <td>0.000000</td>\n",
       "    </tr>\n",
       "    <tr>\n",
       "      <th>12</th>\n",
       "      <td>12</td>\n",
       "      <td>000089792b3fc8026741</td>\n",
       "      <td>What is the dumbest, yet possibly true explana...</td>\n",
       "      <td>0</td>\n",
       "      <td>0</td>\n",
       "      <td>12</td>\n",
       "      <td>75</td>\n",
       "      <td>0.350000</td>\n",
       "      <td>0.650000</td>\n",
       "    </tr>\n",
       "    <tr>\n",
       "      <th>13</th>\n",
       "      <td>13</td>\n",
       "      <td>000092a90bcfbfe8cd88</td>\n",
       "      <td>Can we use our external hard disk as a OS as w...</td>\n",
       "      <td>0</td>\n",
       "      <td>1</td>\n",
       "      <td>20</td>\n",
       "      <td>96</td>\n",
       "      <td>-0.145833</td>\n",
       "      <td>0.320833</td>\n",
       "    </tr>\n",
       "    <tr>\n",
       "      <th>14</th>\n",
       "      <td>14</td>\n",
       "      <td>000095680e41a9a6f6e3</td>\n",
       "      <td>I am 30, living at home and have no boyfriend....</td>\n",
       "      <td>0</td>\n",
       "      <td>2</td>\n",
       "      <td>25</td>\n",
       "      <td>121</td>\n",
       "      <td>0.550000</td>\n",
       "      <td>0.800000</td>\n",
       "    </tr>\n",
       "    <tr>\n",
       "      <th>15</th>\n",
       "      <td>15</td>\n",
       "      <td>0000a89942e3143e333a</td>\n",
       "      <td>What do you know about Bram Fischer and the Ri...</td>\n",
       "      <td>0</td>\n",
       "      <td>0</td>\n",
       "      <td>11</td>\n",
       "      <td>58</td>\n",
       "      <td>0.000000</td>\n",
       "      <td>0.000000</td>\n",
       "    </tr>\n",
       "    <tr>\n",
       "      <th>16</th>\n",
       "      <td>16</td>\n",
       "      <td>0000b8e1279eaa0a7062</td>\n",
       "      <td>How difficult is it to find a good instructor ...</td>\n",
       "      <td>0</td>\n",
       "      <td>0</td>\n",
       "      <td>15</td>\n",
       "      <td>71</td>\n",
       "      <td>0.100000</td>\n",
       "      <td>0.666667</td>\n",
       "    </tr>\n",
       "    <tr>\n",
       "      <th>17</th>\n",
       "      <td>17</td>\n",
       "      <td>0000bc0f62500f55959f</td>\n",
       "      <td>Have you licked the skin of a corpse?</td>\n",
       "      <td>0</td>\n",
       "      <td>0</td>\n",
       "      <td>8</td>\n",
       "      <td>37</td>\n",
       "      <td>0.000000</td>\n",
       "      <td>0.000000</td>\n",
       "    </tr>\n",
       "    <tr>\n",
       "      <th>18</th>\n",
       "      <td>18</td>\n",
       "      <td>0000ce6c31f14d3e09ec</td>\n",
       "      <td>Do you think Amazon will adopt an in house app...</td>\n",
       "      <td>0</td>\n",
       "      <td>0</td>\n",
       "      <td>21</td>\n",
       "      <td>117</td>\n",
       "      <td>0.000000</td>\n",
       "      <td>0.400000</td>\n",
       "    </tr>\n",
       "    <tr>\n",
       "      <th>19</th>\n",
       "      <td>19</td>\n",
       "      <td>0000d329332845b8a7fa</td>\n",
       "      <td>How many baronies might exist within a county ...</td>\n",
       "      <td>0</td>\n",
       "      <td>0</td>\n",
       "      <td>9</td>\n",
       "      <td>55</td>\n",
       "      <td>0.500000</td>\n",
       "      <td>0.500000</td>\n",
       "    </tr>\n",
       "    <tr>\n",
       "      <th>20</th>\n",
       "      <td>20</td>\n",
       "      <td>0000dd973dfd35508c16</td>\n",
       "      <td>How I know whether a girl had done sex before ...</td>\n",
       "      <td>0</td>\n",
       "      <td>0</td>\n",
       "      <td>13</td>\n",
       "      <td>58</td>\n",
       "      <td>0.000000</td>\n",
       "      <td>0.000000</td>\n",
       "    </tr>\n",
       "    <tr>\n",
       "      <th>21</th>\n",
       "      <td>21</td>\n",
       "      <td>0000e4d455f9c8877dc9</td>\n",
       "      <td>How do I become a fast learner both in my prof...</td>\n",
       "      <td>0</td>\n",
       "      <td>0</td>\n",
       "      <td>17</td>\n",
       "      <td>86</td>\n",
       "      <td>0.100000</td>\n",
       "      <td>0.333333</td>\n",
       "    </tr>\n",
       "    <tr>\n",
       "      <th>22</th>\n",
       "      <td>22</td>\n",
       "      <td>0000e91571b60c2fb487</td>\n",
       "      <td>Has the United States become the largest dicta...</td>\n",
       "      <td>1</td>\n",
       "      <td>0</td>\n",
       "      <td>11</td>\n",
       "      <td>67</td>\n",
       "      <td>0.000000</td>\n",
       "      <td>0.000000</td>\n",
       "    </tr>\n",
       "    <tr>\n",
       "      <th>23</th>\n",
       "      <td>23</td>\n",
       "      <td>000101ac65db6e4a1c13</td>\n",
       "      <td>What is the strangest phenomenon you know of, ...</td>\n",
       "      <td>0</td>\n",
       "      <td>0</td>\n",
       "      <td>27</td>\n",
       "      <td>157</td>\n",
       "      <td>0.200000</td>\n",
       "      <td>0.300000</td>\n",
       "    </tr>\n",
       "    <tr>\n",
       "      <th>24</th>\n",
       "      <td>24</td>\n",
       "      <td>00010632971fe5e3e0e2</td>\n",
       "      <td>Should I leave my friends and find new ones?</td>\n",
       "      <td>0</td>\n",
       "      <td>0</td>\n",
       "      <td>9</td>\n",
       "      <td>44</td>\n",
       "      <td>0.136364</td>\n",
       "      <td>0.454545</td>\n",
       "    </tr>\n",
       "  </tbody>\n",
       "</table>\n",
       "</div>"
      ],
      "text/plain": [
       "    Unnamed: 0                   qid  \\\n",
       "0            0  00002165364db923c7e6   \n",
       "1            1  000032939017120e6e44   \n",
       "2            2  0000412ca6e4628ce2cf   \n",
       "3            3  000042bf85aa498cd78e   \n",
       "4            4  0000455dfa3e01eae3af   \n",
       "5            5  00004f9a462a357c33be   \n",
       "6            6  00005059a06ee19e11ad   \n",
       "7            7  0000559f875832745e2e   \n",
       "8            8  00005bd3426b2d0c8305   \n",
       "9            9  00006e6928c5df60eacb   \n",
       "10          10  000075f67dd595c3deb5   \n",
       "11          11  000076f3b42776c692de   \n",
       "12          12  000089792b3fc8026741   \n",
       "13          13  000092a90bcfbfe8cd88   \n",
       "14          14  000095680e41a9a6f6e3   \n",
       "15          15  0000a89942e3143e333a   \n",
       "16          16  0000b8e1279eaa0a7062   \n",
       "17          17  0000bc0f62500f55959f   \n",
       "18          18  0000ce6c31f14d3e09ec   \n",
       "19          19  0000d329332845b8a7fa   \n",
       "20          20  0000dd973dfd35508c16   \n",
       "21          21  0000e4d455f9c8877dc9   \n",
       "22          22  0000e91571b60c2fb487   \n",
       "23          23  000101ac65db6e4a1c13   \n",
       "24          24  00010632971fe5e3e0e2   \n",
       "\n",
       "                                        question_text  target  period_count  \\\n",
       "0   How did Quebec nationalists see their province...       0             0   \n",
       "1   Do you have an adopted dog, how would you enco...       0             0   \n",
       "2   Why does velocity affect time? Does velocity a...       0             0   \n",
       "3   How did Otto von Guericke used the Magdeburg h...       0             0   \n",
       "4   Can I convert montra helicon D to a mountain b...       0             0   \n",
       "5   Is Gaza slowly becoming Auschwitz, Dachau or T...       0             0   \n",
       "6   Why does Quora automatically ban conservative ...       0             0   \n",
       "7   Is it crazy if I wash or wipe my groceries off...       0             1   \n",
       "8   Is there such a thing as dressing moderately, ...       0             0   \n",
       "9   Is it just me or have you ever been in this ph...       0             1   \n",
       "10                   What can you say about feminism?       0             0   \n",
       "11               How were the Calgary Flames founded?       0             0   \n",
       "12  What is the dumbest, yet possibly true explana...       0             0   \n",
       "13  Can we use our external hard disk as a OS as w...       0             1   \n",
       "14  I am 30, living at home and have no boyfriend....       0             2   \n",
       "15  What do you know about Bram Fischer and the Ri...       0             0   \n",
       "16  How difficult is it to find a good instructor ...       0             0   \n",
       "17              Have you licked the skin of a corpse?       0             0   \n",
       "18  Do you think Amazon will adopt an in house app...       0             0   \n",
       "19  How many baronies might exist within a county ...       0             0   \n",
       "20  How I know whether a girl had done sex before ...       0             0   \n",
       "21  How do I become a fast learner both in my prof...       0             0   \n",
       "22  Has the United States become the largest dicta...       1             0   \n",
       "23  What is the strangest phenomenon you know of, ...       0             0   \n",
       "24       Should I leave my friends and find new ones?       0             0   \n",
       "\n",
       "    word_length  char_length  polarity  subjectivity  \n",
       "0            13           72  0.000000      0.000000  \n",
       "1            16           81  0.000000      0.000000  \n",
       "2            10           67  0.000000      0.000000  \n",
       "3             9           57  0.000000      0.000000  \n",
       "4            15           77  0.000000      0.000000  \n",
       "5            10           72  0.450000      0.850000  \n",
       "6            18          113  0.000000      0.125000  \n",
       "7            14           69 -0.600000      0.900000  \n",
       "8            18          102  0.025000      0.675000  \n",
       "9            44          246  0.400000      0.600000  \n",
       "10            6           32  0.000000      0.000000  \n",
       "11            6           36  0.000000      0.000000  \n",
       "12           12           75  0.350000      0.650000  \n",
       "13           20           96 -0.145833      0.320833  \n",
       "14           25          121  0.550000      0.800000  \n",
       "15           11           58  0.000000      0.000000  \n",
       "16           15           71  0.100000      0.666667  \n",
       "17            8           37  0.000000      0.000000  \n",
       "18           21          117  0.000000      0.400000  \n",
       "19            9           55  0.500000      0.500000  \n",
       "20           13           58  0.000000      0.000000  \n",
       "21           17           86  0.100000      0.333333  \n",
       "22           11           67  0.000000      0.000000  \n",
       "23           27          157  0.200000      0.300000  \n",
       "24            9           44  0.136364      0.454545  "
      ]
     },
     "execution_count": 18,
     "metadata": {},
     "output_type": "execute_result"
    }
   ],
   "source": [
    "train=pd.read_csv('new_set.csv')\n",
    "train.head(25)"
   ]
  },
  {
   "cell_type": "code",
   "execution_count": 19,
   "metadata": {
    "colab": {},
    "colab_type": "code",
    "id": "LhM9D-naJihG"
   },
   "outputs": [],
   "source": [
    "import collections\n",
    "import statistics\n",
    "import re\n",
    "\n",
    "\n",
    "\n",
    "def train_score(train1):\n",
    "  train1.loc[:,'word'] = train1['question_text'].apply(lambda x: [re.sub('[^A-Za-z0-9]+', '', i) for i in x.split(\" \")])\n",
    "  bad_word_dict=collections.Counter([y for x in train1['word'][train1['target']==1] for y in x])\n",
    "  good_word_dict=collections.Counter([y for x in train1['word'][train1['target']==0] for y in x])\n",
    "  total_word_dict=collections.Counter([y for x in train1['word'] for y in x])\n",
    "  for i in total_word_dict:\n",
    "      if i not in bad_word_dict:\n",
    "          bad_word_dict[i] = -1\n",
    "      if i not in good_word_dict:    \n",
    "          good_word_dict[i] = 2\n",
    "  raw_word_score = {i: (bad_word_dict[i]*good_word_dict[i])/\n",
    "                    (total_word_dict[i]) for i in total_word_dict}\n",
    "  raw_word_score_2 = {i: (bad_word_dict[i]-good_word_dict[i])/\n",
    "                    (total_word_dict[i]) for i in total_word_dict}\n",
    "  mean_score = statistics.mean(list(raw_word_score.values()))\n",
    "  stdev = statistics.stdev(list(raw_word_score.values()))\n",
    "\n",
    "  mean_score_2 = statistics.mean(list(raw_word_score_2.values()))\n",
    "  stdev_2 = statistics.stdev(list(raw_word_score_2.values()))\n",
    "  standard_word_score = {i : (raw_word_score[i]-mean_score)/stdev for i in raw_word_score}\n",
    "  standard_word_score_2 = {i : (raw_word_score_2[i]-mean_score_2)/stdev_2 for i in raw_word_score_2}\n",
    "  train1.loc[:,'score_1'] = train1['word'].apply(lambda x: sum([raw_word_score[i] for i in x]))\n",
    "  train1.loc[:,'score_2'] = train1['word'].apply(lambda x: sum([raw_word_score_2[i] for i in x]))\n",
    "  return train1.drop(columns = [\"question_text\",\"word\",\"target\"]),raw_word_score,raw_word_score_2\n",
    "\n",
    "\n",
    "def test_score(test1,standard_word_score,standard_word_score_2):\n",
    "  avg_1 = statistics.mean(list(standard_word_score.values()))\n",
    "  avg_2 = statistics.mean(list(standard_word_score_2.values()))\n",
    "  test1.loc[:,'word'] = test1['question_text'].apply(lambda x: [re.sub('[^A-Za-z0-9]+', '', i) for i in x.split(\" \")])\n",
    "  test1.loc[:,'score_1'] = test1['word'].apply(lambda x: sum([standard_word_score[i] if i in standard_word_score else avg_1 for i in x ]))\n",
    "  test1.loc[:,'score_2'] = test1['word'].apply(lambda x: sum([standard_word_score_2[i] if i in standard_word_score_2 else avg_2 for i in x ]))\n",
    "  return test1.drop(columns = [\"question_text\",\"word\",\"target\"])"
   ]
  },
  {
   "cell_type": "code",
   "execution_count": 0,
   "metadata": {
    "colab": {},
    "colab_type": "code",
    "id": "NBJEyxhwLIMn"
   },
   "outputs": [],
   "source": [
    "train[train.target==1].score_1.hist(bins=400)\n",
    "train[train.target==1].score_1.mean()\n",
    "train[train.target==0].score_1.hist(bins=400)\n",
    "train[train.target==0].score_1.mean()\n"
   ]
  },
  {
   "cell_type": "code",
   "execution_count": 22,
   "metadata": {
    "colab": {
     "base_uri": "https://localhost:8080/",
     "height": 615
    },
    "colab_type": "code",
    "id": "5BiELFC2NNzK",
    "outputId": "b5d7f4b4-41b7-4e52-c016-79654db9db80"
   },
   "outputs": [
    {
     "name": "stderr",
     "output_type": "stream",
     "text": [
      "/Users/royluo/anaconda3/envs/devfest/lib/python3.6/site-packages/pandas/core/indexing.py:362: SettingWithCopyWarning: \n",
      "A value is trying to be set on a copy of a slice from a DataFrame.\n",
      "Try using .loc[row_indexer,col_indexer] = value instead\n",
      "\n",
      "See the caveats in the documentation: http://pandas.pydata.org/pandas-docs/stable/indexing.html#indexing-view-versus-copy\n",
      "  self.obj[key] = _infer_fill_value(value)\n",
      "/Users/royluo/anaconda3/envs/devfest/lib/python3.6/site-packages/pandas/core/indexing.py:543: SettingWithCopyWarning: \n",
      "A value is trying to be set on a copy of a slice from a DataFrame.\n",
      "Try using .loc[row_indexer,col_indexer] = value instead\n",
      "\n",
      "See the caveats in the documentation: http://pandas.pydata.org/pandas-docs/stable/indexing.html#indexing-view-versus-copy\n",
      "  self.obj[item] = s\n"
     ]
    }
   ],
   "source": [
    "from sklearn.linear_model import LogisticRegression\n",
    "from sklearn import metrics\n",
    "from sklearn.model_selection import train_test_split\n",
    "from sklearn.ensemble import (RandomForestClassifier, AdaBoostClassifier, \n",
    "GradientBoostingClassifier, ExtraTreesClassifier)\n",
    "from sklearn.preprocessing import normalize\n",
    "\n",
    "cols=['question_text','target','period_count','char_length','polarity'] \n",
    "X=train[cols]\n",
    "y=train['target']\n",
    "\n",
    "#X_train, X_test, y_train, y_test = train_test_split(X, y, test_size=0.2, random_state=0)\n",
    "X_train,y_train = X,y\n",
    "\n",
    "X_train,score1,score2 = train_score(X_train)\n",
    "#X_test = test_score(X_test,score1,score2)\n",
    "\n",
    "\n",
    "X_train,  y_train  = np.array(X_train), np.array(y_train)\n",
    "#X_test,y_test  = np.array(X_test),np.array(y_test)\n",
    "X_train = normalize(X_train)\n",
    "\n"
   ]
  },
  {
   "cell_type": "code",
   "execution_count": 23,
   "metadata": {},
   "outputs": [
    {
     "name": "stderr",
     "output_type": "stream",
     "text": [
      "/Users/royluo/anaconda3/envs/devfest/lib/python3.6/site-packages/sklearn/linear_model/logistic.py:433: FutureWarning: Default solver will be changed to 'lbfgs' in 0.22. Specify a solver to silence this warning.\n",
      "  FutureWarning)\n"
     ]
    }
   ],
   "source": [
    "logreg = LogisticRegression()\n",
    "ranforest = RandomForestClassifier()\n",
    "adaboo = AdaBoostClassifier()\n",
    "GBC = GradientBoostingClassifier()\n",
    "ETC = ExtraTreesClassifier()\n",
    "\n",
    "logreg.fit(X_train, y_train)\n",
    "#y_pred_logreg = logreg.predict(X_test)\n",
    "\n",
    "logreg_feature = logreg.predict(X_train)\n",
    "\n",
    "\n",
    "#print('Accuracy of logistic regression classifier on test set: {:.2f}'.format(logreg.score(X_test, y_test)))\n"
   ]
  },
  {
   "cell_type": "code",
   "execution_count": 24,
   "metadata": {},
   "outputs": [
    {
     "name": "stderr",
     "output_type": "stream",
     "text": [
      "/Users/royluo/anaconda3/envs/devfest/lib/python3.6/site-packages/sklearn/ensemble/forest.py:246: FutureWarning: The default value of n_estimators will change from 10 in version 0.20 to 100 in 0.22.\n",
      "  \"10 in version 0.20 to 100 in 0.22.\", FutureWarning)\n"
     ]
    }
   ],
   "source": [
    "ranforest.fit(X_train, y_train)\n",
    "#y_pred_ranforest = ranforest.predict(X_test)\n",
    "\n",
    "ranforest_feature = ranforest.predict(X_train)\n",
    "\n",
    "#print('Accuracy of Random Forest classifier on test set: {:.2f}'.format(ranforest.score(X_test, y_test)))"
   ]
  },
  {
   "cell_type": "code",
   "execution_count": 237,
   "metadata": {},
   "outputs": [
    {
     "data": {
      "text/plain": [
       "0.4202673050069818"
      ]
     },
     "execution_count": 237,
     "metadata": {},
     "output_type": "execute_result"
    }
   ],
   "source": [
    "#f1_score(y_test,ranforest.predict(X_test))"
   ]
  },
  {
   "cell_type": "code",
   "execution_count": 25,
   "metadata": {},
   "outputs": [],
   "source": [
    "adaboo.fit(X_train, y_train)\n",
    "#y_pred_adaboo = adaboo.predict(X_test)\n",
    "\n",
    "adaboo_feature = adaboo.predict(X_train)\n",
    "\n",
    "#print('Accuracy of Ada Boost classifier on test set: {:.2f}'.format(adaboo.score(X_test, y_test)))"
   ]
  },
  {
   "cell_type": "code",
   "execution_count": 26,
   "metadata": {},
   "outputs": [],
   "source": [
    "GBC.fit(X_train, y_train)\n",
    "#y_pred_GBC = GBC.predict(X_test)\n",
    "\n",
    "GBC_feature = GBC.predict(X_train)\n",
    "\n",
    "#print('Accuracy of Gradient Boosting classifier on test set: {:.2f}'.format(GBC.score(X_test, y_test)))"
   ]
  },
  {
   "cell_type": "code",
   "execution_count": 37,
   "metadata": {},
   "outputs": [
    {
     "name": "stdout",
     "output_type": "stream",
     "text": [
      "Epoch 1/2\n",
      "1306122/1306122 [==============================] - 80s 61us/step - loss: 0.2358 - acc: 0.9381\n",
      "Epoch 2/2\n",
      "1306122/1306122 [==============================] - 78s 60us/step - loss: 0.2321 - acc: 0.9381\n"
     ]
    }
   ],
   "source": [
    "import tensorflow as tf\n",
    "from sklearn.preprocessing import LabelEncoder\n",
    "\n",
    "model = tf.keras.models.Sequential()\n",
    "rate = .30\n",
    "model.add(tf.keras.layers.Flatten())\n",
    "model.add(tf.keras.layers.Dense(6, activation = tf.nn.relu))\n",
    "model.add(tf.keras.layers.Dropout(rate, noise_shape=None, seed=None))\n",
    "model.add(tf.keras.layers.Dense(6, activation = tf.nn.relu))\n",
    "#model.add(tf.keras.layers.Dense(32, activation = tf.nn.relu))\n",
    "model.add(tf.keras.layers.Dense(6, activation = tf.nn.relu))\n",
    "model.add(tf.keras.layers.Dense(6, activation = tf.nn.relu))\n",
    "model.add(tf.keras.layers.Dropout(rate, noise_shape=None, seed=None))\n",
    "#model.add(tf.keras.layers.Dense(32, activation = tf.nn.relu))\n",
    "#model.add(tf.keras.layers.Dropout(rate, noise_shape=None, seed=None))\n",
    "#model.add(tf.keras.layers.Dense(32, activation = tf.nn.relu))\n",
    "#model.add(tf.keras.layers.Dense(4, activation = tf.nn.relu))\n",
    "#model.add(tf.keras.layers.Dense(32, activation = tf.nn.relu))\n",
    "#model.add(tf.keras.layers.Dense(4, activation = tf.nn.relu))\n",
    "\n",
    "#from tensorflow.keras import backend as K\n",
    "\n",
    "'''\n",
    "def f1(y_true, y_pred):\n",
    "    def recall(y_true, y_pred):\n",
    "        \"\"\"Recall metric.\n",
    "\n",
    "        Only computes a batch-wise average of recall.\n",
    "\n",
    "        Computes the recall, a metric for multi-label classification of\n",
    "        how many relevant items are selected.\n",
    "        \"\"\"\n",
    "        true_positives = K.sum(K.round(K.clip(y_true * y_pred, 0, 1)))\n",
    "        possible_positives = K.sum(K.round(K.clip(y_true, 0, 1)))\n",
    "        recall = true_positives / (possible_positives + K.epsilon())\n",
    "        return recall\n",
    "    def precision(y_true, y_pred):\n",
    "        \"\"\"Precision metric.\n",
    "\n",
    "        Only computes a batch-wise average of precision.\n",
    "\n",
    "        Computes the precision, a metric for multi-label classification of\n",
    "        how many selected items are relevant.\n",
    "        \"\"\"\n",
    "        true_positives = K.sum(K.round(K.clip(y_true * y_pred, 0, 1)))\n",
    "        predicted_positives = K.sum(K.round(K.clip(y_pred, 0, 1)))\n",
    "        precision = true_positives / (predicted_positives + K.epsilon())\n",
    "        return precision\n",
    "    precision = precision(y_true, y_pred)\n",
    "    recall = recall(y_true, y_pred)\n",
    "    return 2*((precision*recall)/(precision+recall+K.epsilon()))\n",
    "\n",
    "def f1_loss(y_true, y_pred):\n",
    "    \n",
    "    tp = K.sum(K.cast(y_true*y_pred, 'float'), axis=0)\n",
    "    tn = K.sum(K.cast((1-y_true)*(1-y_pred), 'float'), axis=0)\n",
    "    fp = K.sum(K.cast((1-y_true)*y_pred, 'float'), axis=0)\n",
    "    fn = K.sum(K.cast(y_true*(1-y_pred), 'float'), axis=0)\n",
    "\n",
    "    p = tp / (tp + fp + K.epsilon())\n",
    "    r = tp / (tp + fn + K.epsilon())\n",
    "\n",
    "    f1 = 2*p*r / (p+r+K.epsilon())\n",
    "    f1 = tf.where(tf.is_nan(f1), tf.zeros_like(f1), f1)\n",
    "    return 1 - K.mean(f1)'''\n",
    "\n",
    "model.add(tf.keras.layers.Dense(2, activation = tf.nn.softmax))\n",
    "\n",
    "model.compile(optimizer='adam',\n",
    "             loss = 'sparse_categorical_crossentropy',\n",
    "             metrics = ['accuracy'])\n",
    "model.fit(X_train,y_train,epochs = 2)\n",
    "\n",
    "#y_pred_tf = model.predict_classes([X_test])\n",
    "tf_feature = model.predict_classes([X_train])\n"
   ]
  },
  {
   "cell_type": "code",
   "execution_count": 44,
   "metadata": {},
   "outputs": [
    {
     "data": {
      "text/plain": [
       "(1306122,)"
      ]
     },
     "execution_count": 44,
     "metadata": {},
     "output_type": "execute_result"
    }
   ],
   "source": [
    "from sklearn.metrics import f1_score"
   ]
  },
  {
   "cell_type": "code",
   "execution_count": 45,
   "metadata": {},
   "outputs": [
    {
     "data": {
      "text/plain": [
       "XGBClassifier(base_score=0.5, booster='gbtree', colsample_bylevel=1,\n",
       "       colsample_bytree=0.8, gamma=0.9, learning_rate=0.1,\n",
       "       max_delta_step=0, max_depth=3, min_child_weight=2, missing=None,\n",
       "       n_estimators=200, n_jobs=1, nthread=-1, objective='binary:logistic',\n",
       "       random_state=0, reg_alpha=0, reg_lambda=1, scale_pos_weight=1,\n",
       "       seed=None, silent=True, subsample=0.8)"
      ]
     },
     "execution_count": 45,
     "metadata": {},
     "output_type": "execute_result"
    }
   ],
   "source": [
    "from sklearn.metrics import f1_score\n",
    "gbm = xgb.XGBClassifier(\n",
    " n_estimators= 200,\n",
    " max_depth= 3,\n",
    " min_child_weight= 2,\n",
    " gamma=0.9,                        \n",
    " subsample=0.8,\n",
    " colsample_bytree=0.8,\n",
    " objective= 'binary:logistic',\n",
    " nthread= -1,\n",
    " scale_pos_weight=1)\n",
    "\n",
    "features_train = np.concatenate(([logreg_feature],[ranforest_feature],[adaboo_feature],\n",
    "                           [GBC_feature],[tf_feature])).transpose()\n",
    "\n",
    "#features_test = np.array([y_pred_logreg,y_pred_ranforest,y_pred_adaboo,y_pred_GBC,y_pred_tf]).transpose()\n",
    "gbm.fit(features_train, y_train)\n",
    "#y_pred_gbm = gbm.predict(features_test)\n",
    "#f1_score(y_test, y_pred_gbm)"
   ]
  },
  {
   "cell_type": "code",
   "execution_count": 57,
   "metadata": {},
   "outputs": [
    {
     "data": {
      "text/plain": [
       "0.10095267182746186"
      ]
     },
     "execution_count": 57,
     "metadata": {},
     "output_type": "execute_result"
    }
   ],
   "source": [
    "f1_score(y_train,gbm.predict(features_train))"
   ]
  },
  {
   "cell_type": "code",
   "execution_count": 231,
   "metadata": {},
   "outputs": [
    {
     "data": {
      "text/plain": [
       "array([0, 0, 0, ..., 0, 0, 0])"
      ]
     },
     "execution_count": 231,
     "metadata": {},
     "output_type": "execute_result"
    }
   ],
   "source": [
    "features_train"
   ]
  },
  {
   "cell_type": "code",
   "execution_count": 101,
   "metadata": {},
   "outputs": [
    {
     "data": {
      "text/plain": [
       "0.9587172243437772"
      ]
     },
     "execution_count": 101,
     "metadata": {},
     "output_type": "execute_result"
    }
   ],
   "source": [
    "y_pred_gbm_train = gbm.predict(features_train)\n",
    "f1_score(y_train, y_pred_gbm_train)"
   ]
  },
  {
   "cell_type": "code",
   "execution_count": 7,
   "metadata": {
    "colab": {
     "base_uri": "https://localhost:8080/",
     "height": 294
    },
    "colab_type": "code",
    "id": "_AGgx7h8NlsZ",
    "outputId": "d4c3377b-2086-4059-a203-51173af4c825"
   },
   "outputs": [
    {
     "data": {
      "image/png": "[encoded data removed]",
      "text/plain": [
       "<Figure size 432x288 with 1 Axes>"
      ]
     },
     "metadata": {
      "needs_background": "light"
     },
     "output_type": "display_data"
    }
   ],
   "source": [
    "from sklearn.metrics import roc_auc_score\n",
    "from sklearn.metrics import roc_curve\n",
    "logit_roc_auc = roc_auc_score(y_test, logreg.predict(X_test))\n",
    "fpr, tpr, thresholds = roc_curve(y_test, logreg.predict_proba(X_test)[:,1])\n",
    "plt.figure()\n",
    "plt.plot(fpr, tpr, label='Logistic Regression (area = %0.2f)' % logit_roc_auc)\n",
    "plt.plot([0, 1], [0, 1],'r--')\n",
    "plt.xlim([0.0, 1.0])\n",
    "plt.ylim([0.0, 1.05])\n",
    "plt.xlabel('False Positive Rate')\n",
    "plt.ylabel('True Positive Rate')\n",
    "plt.title('Receiver operating characteristic')\n",
    "plt.legend(loc=\"lower right\")\n",
    "plt.savefig('Log_ROC')\n",
    "plt.show()"
   ]
  },
  {
   "cell_type": "code",
   "execution_count": 8,
   "metadata": {
    "colab": {
     "base_uri": "https://localhost:8080/",
     "height": 170
    },
    "colab_type": "code",
    "id": "ROT9C7AYTzxQ",
    "outputId": "101095ca-054c-4e27-a480-72a6c96a1fb2"
   },
   "outputs": [
    {
     "name": "stdout",
     "output_type": "stream",
     "text": [
      "              precision    recall  f1-score   support\n",
      "\n",
      "           0       0.96      0.99      0.97    367711\n",
      "           1       0.67      0.39      0.49     24126\n",
      "\n",
      "   micro avg       0.95      0.95      0.95    391837\n",
      "   macro avg       0.81      0.69      0.73    391837\n",
      "weighted avg       0.94      0.95      0.94    391837\n",
      "\n"
     ]
    }
   ],
   "source": [
    "from sklearn.metrics import classification_report\n",
    "print(classification_report(y_test, y_pred))"
   ]
  },
  {
   "cell_type": "code",
   "execution_count": 9,
   "metadata": {
    "colab": {
     "base_uri": "https://localhost:8080/",
     "height": 34
    },
    "colab_type": "code",
    "id": "lw0Kv1ODkvgn",
    "outputId": "815f936e-5729-49d7-83a7-f016df824d23"
   },
   "outputs": [
    {
     "data": {
      "text/plain": [
       "0.49429340019326695"
      ]
     },
     "execution_count": 9,
     "metadata": {},
     "output_type": "execute_result"
    }
   ],
   "source": [
    "from sklearn.metrics import f1_score\n",
    "f1_score(y_test, y_pred)"
   ]
  },
  {
   "cell_type": "code",
   "execution_count": 49,
   "metadata": {},
   "outputs": [
    {
     "name": "stderr",
     "output_type": "stream",
     "text": [
      "/Users/royluo/anaconda3/lib/python3.6/site-packages/ipykernel_launcher.py:7: SettingWithCopyWarning: \n",
      "A value is trying to be set on a copy of a slice from a DataFrame.\n",
      "Try using .loc[row_indexer,col_indexer] = value instead\n",
      "\n",
      "See the caveats in the documentation: http://pandas.pydata.org/pandas-docs/stable/indexing.html#indexing-view-versus-copy\n",
      "  import sys\n",
      "/Users/royluo/anaconda3/lib/python3.6/site-packages/ipykernel_launcher.py:27: SettingWithCopyWarning: \n",
      "A value is trying to be set on a copy of a slice from a DataFrame.\n",
      "Try using .loc[row_indexer,col_indexer] = value instead\n",
      "\n",
      "See the caveats in the documentation: http://pandas.pydata.org/pandas-docs/stable/indexing.html#indexing-view-versus-copy\n",
      "/Users/royluo/anaconda3/lib/python3.6/site-packages/ipykernel_launcher.py:28: SettingWithCopyWarning: \n",
      "A value is trying to be set on a copy of a slice from a DataFrame.\n",
      "Try using .loc[row_indexer,col_indexer] = value instead\n",
      "\n",
      "See the caveats in the documentation: http://pandas.pydata.org/pandas-docs/stable/indexing.html#indexing-view-versus-copy\n",
      "/Users/royluo/anaconda3/lib/python3.6/site-packages/ipykernel_launcher.py:35: SettingWithCopyWarning: \n",
      "A value is trying to be set on a copy of a slice from a DataFrame.\n",
      "Try using .loc[row_indexer,col_indexer] = value instead\n",
      "\n",
      "See the caveats in the documentation: http://pandas.pydata.org/pandas-docs/stable/indexing.html#indexing-view-versus-copy\n",
      "/Users/royluo/anaconda3/lib/python3.6/site-packages/ipykernel_launcher.py:36: SettingWithCopyWarning: \n",
      "A value is trying to be set on a copy of a slice from a DataFrame.\n",
      "Try using .loc[row_indexer,col_indexer] = value instead\n",
      "\n",
      "See the caveats in the documentation: http://pandas.pydata.org/pandas-docs/stable/indexing.html#indexing-view-versus-copy\n",
      "/Users/royluo/anaconda3/lib/python3.6/site-packages/ipykernel_launcher.py:37: SettingWithCopyWarning: \n",
      "A value is trying to be set on a copy of a slice from a DataFrame.\n",
      "Try using .loc[row_indexer,col_indexer] = value instead\n",
      "\n",
      "See the caveats in the documentation: http://pandas.pydata.org/pandas-docs/stable/indexing.html#indexing-view-versus-copy\n"
     ]
    }
   ],
   "source": [
    "from sklearn.model_selection import train_test_split\n",
    "import tensorflow as tf\n",
    "cols=['question_text','target','period_count', 'word_length'] \n",
    "X=train[cols]\n",
    "y=train['target']\n",
    "X_train, X_test, y_train, y_test = train_test_split(X, y, test_size=0.1, random_state=0)\n",
    "X_train,score1,score2 = train_score(X_train)\n",
    "X_test = test_score(X_test,score1,score2)"
   ]
  },
  {
   "cell_type": "code",
   "execution_count": 50,
   "metadata": {},
   "outputs": [
    {
     "name": "stdout",
     "output_type": "stream",
     "text": [
      "Epoch 1/2\n",
      "1175509/1175509 [==============================] - 69s 59us/step - loss: 0.1568 - acc: 0.9500\n",
      "Epoch 2/2\n",
      "1175509/1175509 [==============================] - 75s 64us/step - loss: 0.1165 - acc: 0.9535\n"
     ]
    },
    {
     "data": {
      "text/plain": [
       "<tensorflow.python.keras.callbacks.History at 0x1a67fabe80>"
      ]
     },
     "execution_count": 50,
     "metadata": {},
     "output_type": "execute_result"
    }
   ],
   "source": [
    "model = tf.keras.models.Sequential()\n",
    "X_train, X_test, y_train, y_test = np.array(X_train), np.array(X_test),np.array(y_train),np.array(y_test)\n",
    "rate = .2\n",
    "model.add(tf.keras.layers.Flatten())\n",
    "model.add(tf.keras.layers.Dense(32, activation = tf.nn.relu))\n",
    "model.add(tf.keras.layers.Dropout(rate, noise_shape=None, seed=None))\n",
    "model.add(tf.keras.layers.Dense(32, activation = tf.nn.relu))\n",
    "model.add(tf.keras.layers.Dropout(rate, noise_shape=None, seed=None))\n",
    "model.add(tf.keras.layers.Dense(32, activation = tf.nn.relu))\n",
    "model.add(tf.keras.layers.Dropout(rate, noise_shape=None, seed=None))\n",
    "model.add(tf.keras.layers.Dense(32, activation = tf.nn.relu))\n",
    "model.add(tf.keras.layers.Dense(2, activation = tf.nn.softmax))\n",
    "\n",
    "model.compile(optimizer='adam',\n",
    "             loss = 'sparse_categorical_crossentropy',\n",
    "             metrics = ['accuracy'])\n",
    "model.fit(X_train,y_train,epochs = 2)"
   ]
  },
  {
   "cell_type": "code",
   "execution_count": 157,
   "metadata": {},
   "outputs": [
    {
     "name": "stdout",
     "output_type": "stream",
     "text": [
      "261225/261225 [==============================] - 9s 35us/step\n"
     ]
    },
    {
     "data": {
      "text/plain": [
       "[0.23035409458103517, 0.9384591826969088]"
      ]
     },
     "execution_count": 157,
     "metadata": {},
     "output_type": "execute_result"
    }
   ],
   "source": [
    "model.evaluate(X_test,y_test)\n",
    "#returns [loss,accuracy]"
   ]
  },
  {
   "cell_type": "code",
   "execution_count": 52,
   "metadata": {},
   "outputs": [
    {
     "data": {
      "text/plain": [
       "0"
      ]
     },
     "execution_count": 52,
     "metadata": {},
     "output_type": "execute_result"
    }
   ],
   "source": [
    "predictions = model.predict_classes([X_test])\n",
    "predictions[0]"
   ]
  },
  {
   "cell_type": "code",
   "execution_count": 53,
   "metadata": {},
   "outputs": [
    {
     "data": {
      "text/plain": [
       "0.5693746283984649"
      ]
     },
     "execution_count": 53,
     "metadata": {},
     "output_type": "execute_result"
    }
   ],
   "source": [
    "from sklearn.metrics import f1_score\n",
    "f1_score(y_test, predictions)"
   ]
  },
  {
   "cell_type": "code",
   "execution_count": 11,
   "metadata": {
    "colab": {},
    "colab_type": "code",
    "id": "-PjaZ75cLtJZ"
   },
   "outputs": [],
   "source": [
    "glove = pd.read_table('glove.840B.300d.txt',header=None)"
   ]
  },
  {
   "cell_type": "code",
   "execution_count": 13,
   "metadata": {
    "colab": {},
    "colab_type": "code",
    "id": "D402isNjK_FW"
   },
   "outputs": [
    {
     "data": {
      "text/html": [
       "<div>\n",
       "<style scoped>\n",
       "    .dataframe tbody tr th:only-of-type {\n",
       "        vertical-align: middle;\n",
       "    }\n",
       "\n",
       "    .dataframe tbody tr th {\n",
       "        vertical-align: top;\n",
       "    }\n",
       "\n",
       "    .dataframe thead th {\n",
       "        text-align: right;\n",
       "    }\n",
       "</style>\n",
       "<table border=\"1\" class=\"dataframe\">\n",
       "  <thead>\n",
       "    <tr style=\"text-align: right;\">\n",
       "      <th></th>\n",
       "      <th>0</th>\n",
       "    </tr>\n",
       "  </thead>\n",
       "  <tbody>\n",
       "    <tr>\n",
       "      <th>0</th>\n",
       "      <td>, -0.082752 0.67204 -0.14987 -0.064983 0.05649...</td>\n",
       "    </tr>\n",
       "    <tr>\n",
       "      <th>1</th>\n",
       "      <td>. 0.012001 0.20751 -0.12578 -0.59325 0.12525 0...</td>\n",
       "    </tr>\n",
       "    <tr>\n",
       "      <th>2</th>\n",
       "      <td>the 0.27204 -0.06203 -0.1884 0.023225 -0.01815...</td>\n",
       "    </tr>\n",
       "    <tr>\n",
       "      <th>3</th>\n",
       "      <td>and -0.18567 0.066008 -0.25209 -0.11725 0.2651...</td>\n",
       "    </tr>\n",
       "    <tr>\n",
       "      <th>4</th>\n",
       "      <td>to 0.31924 0.06316 -0.27858 0.2612 0.079248 -0...</td>\n",
       "    </tr>\n",
       "  </tbody>\n",
       "</table>\n",
       "</div>"
      ],
      "text/plain": [
       "                                                   0\n",
       "0  , -0.082752 0.67204 -0.14987 -0.064983 0.05649...\n",
       "1  . 0.012001 0.20751 -0.12578 -0.59325 0.12525 0...\n",
       "2  the 0.27204 -0.06203 -0.1884 0.023225 -0.01815...\n",
       "3  and -0.18567 0.066008 -0.25209 -0.11725 0.2651...\n",
       "4  to 0.31924 0.06316 -0.27858 0.2612 0.079248 -0..."
      ]
     },
     "execution_count": 13,
     "metadata": {},
     "output_type": "execute_result"
    }
   ],
   "source": [
    "#glove['vector'] = glove[0].apply(lambda x : str(x).split(\" \")[1:])\n",
    "#glove['name'] = glove[0].apply(lambda x: str(x).split(\" \")[0])\n",
    "glove.head()"
   ]
  },
  {
   "cell_type": "code",
   "execution_count": null,
   "metadata": {},
   "outputs": [],
   "source": [
    "for i, chunk in enumerate(glove):\n",
    "    single_df = chunk\n",
    "    if i >0:\n",
    "        break\n",
    "single_df[0].str.split(' ', expand=True)\n",
    "single_df.index = pd.Index(single_df[0])"
   ]
  },
  {
   "cell_type": "code",
   "execution_count": null,
   "metadata": {},
   "outputs": [],
   "source": [
    "#glove_dict = {y[0]: y[1:] for i in glove[0] for y in [i.split(\" \")]}\n",
    "vals = glove.values\n",
    "vecs = [{} for _ in range(5)]\n",
    "for i, vec in enumerate(vals):\n",
    "    vec = vec[0]\n",
    "    splitted = vec.split()\n",
    "    word = splitted[0]\n",
    "    splitted[0] = 0\n",
    "    vecs[i // 500000][word] = splitted\n",
    "    if i % 10000 == 0:\n",
    "        print(i)\n"
   ]
  },
  {
   "cell_type": "code",
   "execution_count": null,
   "metadata": {
    "colab": {
     "base_uri": "https://localhost:8080/",
     "height": 34
    },
    "colab_type": "code",
    "id": "oYizsZR7MBYf",
    "outputId": "2d82ae2f-0adc-4731-be0d-34a4916edc0b"
   },
   "outputs": [],
   "source": [
    "train['word'] = train['question_text'].apply(lambda x: [re.sub('[^A-Za-z0-9]+', '', i) for i in x.split(\" \")])\n",
    "test['word'] = test['question_text'].apply(lambda x: [re.sub('[^A-Za-z0-9]+', '', i) for i in x.split(\" \")])\n",
    "total_set = set([y for x in train.word for y in x].append([a for b in test.word for a in b]))\n",
    "vals = glove.values\n",
    "vec={}\n",
    "for i, vec in enumerate(vals):\n",
    "    vec = vec[0]\n",
    "    splitted = vec.split()\n",
    "    word = splitted[0]\n",
    "    if word in total_set:\n",
    "        vec{word:splitted[1:]}\n",
    "        "
   ]
  },
  {
   "cell_type": "code",
   "execution_count": 101,
   "metadata": {
    "colab": {
     "base_uri": "https://localhost:8080/",
     "height": 34
    },
    "colab_type": "code",
    "id": "z8bV--o6Tall",
    "outputId": "72976541-7d34-4aad-c0fe-dde7e5c0bba0"
   },
   "outputs": [],
   "source": [
    "paragram = pd.read_table(\"paragram_300_sl999.txt\",header=None,encoding = \"ISO-8859-1\")"
   ]
  },
  {
   "cell_type": "code",
   "execution_count": 144,
   "metadata": {
    "colab": {},
    "colab_type": "code",
    "id": "1GYsjlaOTo23"
   },
   "outputs": [],
   "source": [
    "paragram = pd.read_table(\"paragram_300_sl999.txt\",header=None,encoding = \"ISO-8859-1\")\n",
    "#paragram_dict_1 = {y[0] : y[1:] for i in paragram_chunk_1 if y[0] in total_set for y in i.split()}\n",
    "\n",
    "\n",
    "def choose_chunk(num,df):\n",
    "    for i, chunk in enumerate(df):\n",
    "        singledf = chunk\n",
    "        if i >= num-1:\n",
    "            break\n",
    "    return singledf\n",
    "\n",
    "\n",
    "train['word'] = train['question_text'].apply(lambda x: [re.sub('[^A-Za-z0-9]+', '', i) for i in x.split(\" \")])\n",
    "test['word'] = test['question_text'].apply(lambda x: [re.sub('[^A-Za-z0-9]+', '', i) for i in x.split(\" \")])\n",
    "total_set = set([y for x in train['word'] for y in x] + [a for b in test['word'] for a in b])\n",
    "\n",
    "chunk_1 = paragram.loc[0:300000]\n",
    "chunk_2 = paragram.loc[300000:600000]\n",
    "chunk_3 = paragram.loc[600000:900000]\n",
    "chunk_4 = paragram.loc[900000:1200000]\n",
    "chunk_5 = paragram.loc[1200000:1500000]\n",
    "chunk_6 = paragram.loc[1500000:]\n",
    "\n",
    "def chunk_delete_useless(chunk,total_set):\n",
    "    vec_dict={}\n",
    "    vals = chunk.values\n",
    "    for i, vec in enumerate(vals):\n",
    "        vec = vec[0]\n",
    "        splitted = vec.split()\n",
    "        word = splitted[0]\n",
    "        if word in total_set:\n",
    "            vec_dict[word] = splitted[1:]\n",
    "    return vec_dict\n",
    "d1 = chunk_delete_useless(chunk_1,total_set)\n",
    "d2 = chunk_delete_useless(chunk_2,total_set)\n",
    "d3 = chunk_delete_useless(chunk_3,total_set)\n",
    "d4 = chunk_delete_useless(chunk_4,total_set)\n",
    "d5 = chunk_delete_useless(chunk_5,total_set)\n",
    "d6 = chunk_delete_useless(chunk_6,total_set)\n",
    "paragram_dict = {**d1,**d2,**d3,**d4,**d5,**d6}"
   ]
  },
  {
   "cell_type": "code",
   "execution_count": 76,
   "metadata": {},
   "outputs": [
    {
     "name": "stdout",
     "output_type": "stream",
     "text": [
      "Enter your questionhow is trump\n"
     ]
    },
    {
     "data": {
      "text/plain": [
       "array([0])"
      ]
     },
     "execution_count": 76,
     "metadata": {},
     "output_type": "execute_result"
    }
   ],
   "source": [
    "question1 = input('Enter your question')\n",
    "#question1 = 'Has the U.S become the largest dictatorship in this world?'\n",
    "avg_1 = statistics.mean(list(score1.values()))\n",
    "avg_2 = statistics.mean(list(score2.values()))\n",
    "\n",
    "word_length = len(question1.split(' '))\n",
    "char_length = len(question1)\n",
    "period_count = question1.count('.')\n",
    "word = [re.sub('[^A-Za-z0-9]+', '', i) for i in question1.split(\" \")]\n",
    "score_1 = sum([score1[i] if i in score1 else avg_1 for i in word ])\n",
    "score_2 = sum([score2[i] if i in score2 else avg_2 for i in word ])\n",
    "sent = TextBlob(question1).sentiment\n",
    "\n",
    "raw_input = [period_count,char_length,sent.polarity,score_1,score_2]\n",
    "new_set = train_score(X)[0]\n",
    "\n",
    "question_input = np.array(raw_input)\n",
    "\n",
    "logreg_input = logreg.predict([question_input])\n",
    "ranforest_input = ranforest.predict([question_input])\n",
    "adaboo_input = adaboo.predict([question_input])\n",
    "GBC_input = GBC.predict([question_input])\n",
    "tf_input = model.predict_classes(np.array([question_input]))\n",
    "\n",
    "features = ['period_count','char_length','polarity','score_1','score_2']\n",
    "\n",
    "for i,feature in enumerate(features):\n",
    "    M = new_set[feature].max()\n",
    "    m = new_set[feature].min()\n",
    "    raw_input[i] = (raw_input[i] - M) / (M-m)\n",
    "\n",
    "gbm.predict(np.array([logreg_input,ranforest_input,adaboo_input,GBC_input,tf_input]).transpose())"
   ]
  },
  {
   "cell_type": "code",
   "execution_count": 72,
   "metadata": {},
   "outputs": [
    {
     "data": {
      "text/plain": [
       "array([ 0.00164123,  0.05525472,  0.        ,  0.        ,  0.99846857,\n",
       "       -0.00217862])"
      ]
     },
     "execution_count": 72,
     "metadata": {},
     "output_type": "execute_result"
    }
   ],
   "source": [
    "normalize(np.array([[period_count,char_length,sent.polarity,sent.subjectivity,score_1,score_2]])).ravel()"
   ]
  },
  {
   "cell_type": "code",
   "execution_count": 58,
   "metadata": {},
   "outputs": [
    {
     "data": {
      "text/html": [
       "<div>\n",
       "<style scoped>\n",
       "    .dataframe tbody tr th:only-of-type {\n",
       "        vertical-align: middle;\n",
       "    }\n",
       "\n",
       "    .dataframe tbody tr th {\n",
       "        vertical-align: top;\n",
       "    }\n",
       "\n",
       "    .dataframe thead th {\n",
       "        text-align: right;\n",
       "    }\n",
       "</style>\n",
       "<table border=\"1\" class=\"dataframe\">\n",
       "  <thead>\n",
       "    <tr style=\"text-align: right;\">\n",
       "      <th></th>\n",
       "      <th>Unnamed: 0</th>\n",
       "      <th>qid</th>\n",
       "      <th>question_text</th>\n",
       "      <th>target</th>\n",
       "      <th>period_count</th>\n",
       "      <th>word_length</th>\n",
       "      <th>char_length</th>\n",
       "      <th>polarity</th>\n",
       "      <th>subjectivity</th>\n",
       "    </tr>\n",
       "  </thead>\n",
       "  <tbody>\n",
       "    <tr>\n",
       "      <th>22</th>\n",
       "      <td>22</td>\n",
       "      <td>0000e91571b60c2fb487</td>\n",
       "      <td>Has the United States become the largest dicta...</td>\n",
       "      <td>1</td>\n",
       "      <td>0</td>\n",
       "      <td>11</td>\n",
       "      <td>67</td>\n",
       "      <td>0.000000</td>\n",
       "      <td>0.000000</td>\n",
       "    </tr>\n",
       "    <tr>\n",
       "      <th>30</th>\n",
       "      <td>30</td>\n",
       "      <td>00013ceca3f624b09f42</td>\n",
       "      <td>Which babies are more sweeter to their parents...</td>\n",
       "      <td>1</td>\n",
       "      <td>0</td>\n",
       "      <td>15</td>\n",
       "      <td>86</td>\n",
       "      <td>0.250000</td>\n",
       "      <td>0.533333</td>\n",
       "    </tr>\n",
       "    <tr>\n",
       "      <th>110</th>\n",
       "      <td>110</td>\n",
       "      <td>0004a7fcb2bf73076489</td>\n",
       "      <td>If blacks support school choice and mandatory ...</td>\n",
       "      <td>1</td>\n",
       "      <td>0</td>\n",
       "      <td>15</td>\n",
       "      <td>102</td>\n",
       "      <td>0.000000</td>\n",
       "      <td>0.000000</td>\n",
       "    </tr>\n",
       "    <tr>\n",
       "      <th>114</th>\n",
       "      <td>114</td>\n",
       "      <td>00052793eaa287aff1e1</td>\n",
       "      <td>I am gay boy and I love my cousin (boy). He is...</td>\n",
       "      <td>1</td>\n",
       "      <td>3</td>\n",
       "      <td>34</td>\n",
       "      <td>137</td>\n",
       "      <td>0.416667</td>\n",
       "      <td>0.758333</td>\n",
       "    </tr>\n",
       "    <tr>\n",
       "      <th>115</th>\n",
       "      <td>115</td>\n",
       "      <td>000537213b01fd77b58a</td>\n",
       "      <td>Which races have the smallest penis?</td>\n",
       "      <td>1</td>\n",
       "      <td>0</td>\n",
       "      <td>6</td>\n",
       "      <td>36</td>\n",
       "      <td>0.000000</td>\n",
       "      <td>0.000000</td>\n",
       "    </tr>\n",
       "    <tr>\n",
       "      <th>119</th>\n",
       "      <td>119</td>\n",
       "      <td>00056d45a1ce63856fc6</td>\n",
       "      <td>Why do females find penises ugly?</td>\n",
       "      <td>1</td>\n",
       "      <td>0</td>\n",
       "      <td>6</td>\n",
       "      <td>33</td>\n",
       "      <td>-0.700000</td>\n",
       "      <td>1.000000</td>\n",
       "    </tr>\n",
       "    <tr>\n",
       "      <th>127</th>\n",
       "      <td>127</td>\n",
       "      <td>0005de07b07a17046e27</td>\n",
       "      <td>How do I marry an American woman for a Green C...</td>\n",
       "      <td>1</td>\n",
       "      <td>0</td>\n",
       "      <td>16</td>\n",
       "      <td>75</td>\n",
       "      <td>0.000000</td>\n",
       "      <td>0.166667</td>\n",
       "    </tr>\n",
       "    <tr>\n",
       "      <th>144</th>\n",
       "      <td>144</td>\n",
       "      <td>00068875d7c82a5bcf88</td>\n",
       "      <td>Why do Europeans say they're the superior race...</td>\n",
       "      <td>1</td>\n",
       "      <td>0</td>\n",
       "      <td>26</td>\n",
       "      <td>149</td>\n",
       "      <td>0.350000</td>\n",
       "      <td>0.450000</td>\n",
       "    </tr>\n",
       "    <tr>\n",
       "      <th>156</th>\n",
       "      <td>156</td>\n",
       "      <td>0006ffd99a6599ff35b3</td>\n",
       "      <td>Did Julius Caesar bring a tyrannosaurus rex on...</td>\n",
       "      <td>1</td>\n",
       "      <td>0</td>\n",
       "      <td>16</td>\n",
       "      <td>99</td>\n",
       "      <td>0.000000</td>\n",
       "      <td>0.000000</td>\n",
       "    </tr>\n",
       "    <tr>\n",
       "      <th>167</th>\n",
       "      <td>167</td>\n",
       "      <td>00075f7061837807c69f</td>\n",
       "      <td>In what manner has Republican backing of 'stat...</td>\n",
       "      <td>1</td>\n",
       "      <td>0</td>\n",
       "      <td>27</td>\n",
       "      <td>164</td>\n",
       "      <td>0.300000</td>\n",
       "      <td>0.550000</td>\n",
       "    </tr>\n",
       "    <tr>\n",
       "      <th>168</th>\n",
       "      <td>168</td>\n",
       "      <td>00076debbd82860ca33a</td>\n",
       "      <td>Would Europeans continue to participate in the...</td>\n",
       "      <td>1</td>\n",
       "      <td>0</td>\n",
       "      <td>42</td>\n",
       "      <td>223</td>\n",
       "      <td>0.000000</td>\n",
       "      <td>0.000000</td>\n",
       "    </tr>\n",
       "    <tr>\n",
       "      <th>208</th>\n",
       "      <td>208</td>\n",
       "      <td>000983f5b226cca636f4</td>\n",
       "      <td>Why are Americans, British, Canadians, Austral...</td>\n",
       "      <td>1</td>\n",
       "      <td>0</td>\n",
       "      <td>22</td>\n",
       "      <td>147</td>\n",
       "      <td>0.045455</td>\n",
       "      <td>0.193182</td>\n",
       "    </tr>\n",
       "    <tr>\n",
       "      <th>214</th>\n",
       "      <td>214</td>\n",
       "      <td>0009fcb845bb24de91f4</td>\n",
       "      <td>If both Honey Singh and Justin Bieber fall fro...</td>\n",
       "      <td>1</td>\n",
       "      <td>0</td>\n",
       "      <td>15</td>\n",
       "      <td>80</td>\n",
       "      <td>0.000000</td>\n",
       "      <td>0.000000</td>\n",
       "    </tr>\n",
       "    <tr>\n",
       "      <th>224</th>\n",
       "      <td>224</td>\n",
       "      <td>000a898565e80fe124bf</td>\n",
       "      <td>Why are liberal minorities so voilent towards ...</td>\n",
       "      <td>1</td>\n",
       "      <td>0</td>\n",
       "      <td>24</td>\n",
       "      <td>161</td>\n",
       "      <td>0.250000</td>\n",
       "      <td>0.250000</td>\n",
       "    </tr>\n",
       "    <tr>\n",
       "      <th>235</th>\n",
       "      <td>235</td>\n",
       "      <td>000b1f4cbc5c238a765d</td>\n",
       "      <td>Can we all now admit that President Trump does...</td>\n",
       "      <td>1</td>\n",
       "      <td>0</td>\n",
       "      <td>20</td>\n",
       "      <td>126</td>\n",
       "      <td>0.200000</td>\n",
       "      <td>0.200000</td>\n",
       "    </tr>\n",
       "    <tr>\n",
       "      <th>260</th>\n",
       "      <td>260</td>\n",
       "      <td>000c44fe9b2822b25d77</td>\n",
       "      <td>The American economy is growing under Trump’s ...</td>\n",
       "      <td>1</td>\n",
       "      <td>0</td>\n",
       "      <td>17</td>\n",
       "      <td>104</td>\n",
       "      <td>-0.400000</td>\n",
       "      <td>0.450000</td>\n",
       "    </tr>\n",
       "    <tr>\n",
       "      <th>286</th>\n",
       "      <td>286</td>\n",
       "      <td>000d9de4df8d6a31c248</td>\n",
       "      <td>Why don't poor countries print more money to u...</td>\n",
       "      <td>1</td>\n",
       "      <td>1</td>\n",
       "      <td>14</td>\n",
       "      <td>80</td>\n",
       "      <td>0.050000</td>\n",
       "      <td>0.550000</td>\n",
       "    </tr>\n",
       "    <tr>\n",
       "      <th>289</th>\n",
       "      <td>289</td>\n",
       "      <td>000db4d0223af5dd9c5d</td>\n",
       "      <td>Why do all the people who claim Florida has gr...</td>\n",
       "      <td>1</td>\n",
       "      <td>0</td>\n",
       "      <td>19</td>\n",
       "      <td>103</td>\n",
       "      <td>0.312121</td>\n",
       "      <td>0.434848</td>\n",
       "    </tr>\n",
       "    <tr>\n",
       "      <th>291</th>\n",
       "      <td>291</td>\n",
       "      <td>000db9603d16a6d9bb2e</td>\n",
       "      <td>Could the leader of Iran be dead many years ag...</td>\n",
       "      <td>1</td>\n",
       "      <td>0</td>\n",
       "      <td>21</td>\n",
       "      <td>105</td>\n",
       "      <td>-0.066667</td>\n",
       "      <td>0.633333</td>\n",
       "    </tr>\n",
       "    <tr>\n",
       "      <th>302</th>\n",
       "      <td>302</td>\n",
       "      <td>000e67648fce55f011be</td>\n",
       "      <td>Why do the Liberals who run schools choose not...</td>\n",
       "      <td>1</td>\n",
       "      <td>1</td>\n",
       "      <td>24</td>\n",
       "      <td>130</td>\n",
       "      <td>-0.162500</td>\n",
       "      <td>0.187500</td>\n",
       "    </tr>\n",
       "    <tr>\n",
       "      <th>315</th>\n",
       "      <td>315</td>\n",
       "      <td>000f0266e12c3349db07</td>\n",
       "      <td>Why did Pakistan pass the Sikh Marriage Act be...</td>\n",
       "      <td>1</td>\n",
       "      <td>0</td>\n",
       "      <td>10</td>\n",
       "      <td>57</td>\n",
       "      <td>0.000000</td>\n",
       "      <td>0.000000</td>\n",
       "    </tr>\n",
       "    <tr>\n",
       "      <th>333</th>\n",
       "      <td>333</td>\n",
       "      <td>000f89527b907f3ef20f</td>\n",
       "      <td>How do I train my dogs to kill raccoons?</td>\n",
       "      <td>1</td>\n",
       "      <td>0</td>\n",
       "      <td>9</td>\n",
       "      <td>40</td>\n",
       "      <td>0.000000</td>\n",
       "      <td>0.000000</td>\n",
       "    </tr>\n",
       "    <tr>\n",
       "      <th>362</th>\n",
       "      <td>362</td>\n",
       "      <td>0010b8bd37af629de2f9</td>\n",
       "      <td>Is there any woman (other than Muslim) who is ...</td>\n",
       "      <td>1</td>\n",
       "      <td>0</td>\n",
       "      <td>39</td>\n",
       "      <td>197</td>\n",
       "      <td>0.391667</td>\n",
       "      <td>0.658333</td>\n",
       "    </tr>\n",
       "    <tr>\n",
       "      <th>397</th>\n",
       "      <td>397</td>\n",
       "      <td>0012bba774c13ce9cc9e</td>\n",
       "      <td>Do moms have sex with their sons?</td>\n",
       "      <td>1</td>\n",
       "      <td>0</td>\n",
       "      <td>7</td>\n",
       "      <td>33</td>\n",
       "      <td>0.000000</td>\n",
       "      <td>0.000000</td>\n",
       "    </tr>\n",
       "    <tr>\n",
       "      <th>400</th>\n",
       "      <td>400</td>\n",
       "      <td>0012d72ccc14e9329f97</td>\n",
       "      <td>Why did the Pope say that \"Muslims are a curse...</td>\n",
       "      <td>1</td>\n",
       "      <td>0</td>\n",
       "      <td>13</td>\n",
       "      <td>62</td>\n",
       "      <td>0.000000</td>\n",
       "      <td>0.000000</td>\n",
       "    </tr>\n",
       "  </tbody>\n",
       "</table>\n",
       "</div>"
      ],
      "text/plain": [
       "     Unnamed: 0                   qid  \\\n",
       "22           22  0000e91571b60c2fb487   \n",
       "30           30  00013ceca3f624b09f42   \n",
       "110         110  0004a7fcb2bf73076489   \n",
       "114         114  00052793eaa287aff1e1   \n",
       "115         115  000537213b01fd77b58a   \n",
       "119         119  00056d45a1ce63856fc6   \n",
       "127         127  0005de07b07a17046e27   \n",
       "144         144  00068875d7c82a5bcf88   \n",
       "156         156  0006ffd99a6599ff35b3   \n",
       "167         167  00075f7061837807c69f   \n",
       "168         168  00076debbd82860ca33a   \n",
       "208         208  000983f5b226cca636f4   \n",
       "214         214  0009fcb845bb24de91f4   \n",
       "224         224  000a898565e80fe124bf   \n",
       "235         235  000b1f4cbc5c238a765d   \n",
       "260         260  000c44fe9b2822b25d77   \n",
       "286         286  000d9de4df8d6a31c248   \n",
       "289         289  000db4d0223af5dd9c5d   \n",
       "291         291  000db9603d16a6d9bb2e   \n",
       "302         302  000e67648fce55f011be   \n",
       "315         315  000f0266e12c3349db07   \n",
       "333         333  000f89527b907f3ef20f   \n",
       "362         362  0010b8bd37af629de2f9   \n",
       "397         397  0012bba774c13ce9cc9e   \n",
       "400         400  0012d72ccc14e9329f97   \n",
       "\n",
       "                                         question_text  target  period_count  \\\n",
       "22   Has the United States become the largest dicta...       1             0   \n",
       "30   Which babies are more sweeter to their parents...       1             0   \n",
       "110  If blacks support school choice and mandatory ...       1             0   \n",
       "114  I am gay boy and I love my cousin (boy). He is...       1             3   \n",
       "115               Which races have the smallest penis?       1             0   \n",
       "119                  Why do females find penises ugly?       1             0   \n",
       "127  How do I marry an American woman for a Green C...       1             0   \n",
       "144  Why do Europeans say they're the superior race...       1             0   \n",
       "156  Did Julius Caesar bring a tyrannosaurus rex on...       1             0   \n",
       "167  In what manner has Republican backing of 'stat...       1             0   \n",
       "168  Would Europeans continue to participate in the...       1             0   \n",
       "208  Why are Americans, British, Canadians, Austral...       1             0   \n",
       "214  If both Honey Singh and Justin Bieber fall fro...       1             0   \n",
       "224  Why are liberal minorities so voilent towards ...       1             0   \n",
       "235  Can we all now admit that President Trump does...       1             0   \n",
       "260  The American economy is growing under Trump’s ...       1             0   \n",
       "286  Why don't poor countries print more money to u...       1             1   \n",
       "289  Why do all the people who claim Florida has gr...       1             0   \n",
       "291  Could the leader of Iran be dead many years ag...       1             0   \n",
       "302  Why do the Liberals who run schools choose not...       1             1   \n",
       "315  Why did Pakistan pass the Sikh Marriage Act be...       1             0   \n",
       "333           How do I train my dogs to kill raccoons?       1             0   \n",
       "362  Is there any woman (other than Muslim) who is ...       1             0   \n",
       "397                  Do moms have sex with their sons?       1             0   \n",
       "400  Why did the Pope say that \"Muslims are a curse...       1             0   \n",
       "\n",
       "     word_length  char_length  polarity  subjectivity  \n",
       "22            11           67  0.000000      0.000000  \n",
       "30            15           86  0.250000      0.533333  \n",
       "110           15          102  0.000000      0.000000  \n",
       "114           34          137  0.416667      0.758333  \n",
       "115            6           36  0.000000      0.000000  \n",
       "119            6           33 -0.700000      1.000000  \n",
       "127           16           75  0.000000      0.166667  \n",
       "144           26          149  0.350000      0.450000  \n",
       "156           16           99  0.000000      0.000000  \n",
       "167           27          164  0.300000      0.550000  \n",
       "168           42          223  0.000000      0.000000  \n",
       "208           22          147  0.045455      0.193182  \n",
       "214           15           80  0.000000      0.000000  \n",
       "224           24          161  0.250000      0.250000  \n",
       "235           20          126  0.200000      0.200000  \n",
       "260           17          104 -0.400000      0.450000  \n",
       "286           14           80  0.050000      0.550000  \n",
       "289           19          103  0.312121      0.434848  \n",
       "291           21          105 -0.066667      0.633333  \n",
       "302           24          130 -0.162500      0.187500  \n",
       "315           10           57  0.000000      0.000000  \n",
       "333            9           40  0.000000      0.000000  \n",
       "362           39          197  0.391667      0.658333  \n",
       "397            7           33  0.000000      0.000000  \n",
       "400           13           62  0.000000      0.000000  "
      ]
     },
     "execution_count": 58,
     "metadata": {},
     "output_type": "execute_result"
    }
   ],
   "source": [
    "train[train.target == 1].head(25)"
   ]
  },
  {
   "cell_type": "code",
   "execution_count": 269,
   "metadata": {},
   "outputs": [
    {
     "data": {
      "text/plain": [
       "array([[1],\n",
       "       [1],\n",
       "       [0],\n",
       "       [0],\n",
       "       [0]])"
      ]
     },
     "execution_count": 269,
     "metadata": {},
     "output_type": "execute_result"
    }
   ],
   "source": [
    "np.array([logreg_input,ranforest_input,adaboo_input,GBC_input,tf_input])"
   ]
  },
  {
   "cell_type": "code",
   "execution_count": 78,
   "metadata": {},
   "outputs": [
    {
     "data": {
      "text/plain": [
       "0.36034002326071346"
      ]
     },
     "execution_count": 78,
     "metadata": {},
     "output_type": "execute_result"
    },
    {
     "data": {
      "image/png": "[encoded data removed]",
      "text/plain": [
       "<Figure size 432x288 with 1 Axes>"
      ]
     },
     "metadata": {
      "needs_background": "light"
     },
     "output_type": "display_data"
    }
   ],
   "source": [
    "#train[train.target == 1].head(100)\n",
    "\n",
    "plt.hist(train[train.target==1].subjectivity)\n",
    "np.mean(train[train.target==1].subjectivity)"
   ]
  },
  {
   "cell_type": "code",
   "execution_count": 77,
   "metadata": {},
   "outputs": [
    {
     "data": {
      "text/plain": [
       "0.27018057961580033"
      ]
     },
     "execution_count": 77,
     "metadata": {},
     "output_type": "execute_result"
    },
    {
     "data": {
      "image/png": "[encoded data removed]",
      "text/plain": [
       "<Figure size 432x288 with 1 Axes>"
      ]
     },
     "metadata": {
      "needs_background": "light"
     },
     "output_type": "display_data"
    }
   ],
   "source": [
    "plt.hist(train[train.target==0].subjectivity)\n",
    "np.mean(train[train.target==0].subjectivity)"
   ]
  },
  {
   "cell_type": "code",
   "execution_count": 73,
   "metadata": {},
   "outputs": [],
   "source": [
    "features_test = np.array([y_pred_logreg,y_pred_ranforest,y_pred_adaboo,y_pred_GBC])"
   ]
  },
  {
   "cell_type": "code",
   "execution_count": 244,
   "metadata": {},
   "outputs": [
    {
     "data": {
      "text/plain": [
       "{'fae': 123}"
      ]
     },
     "execution_count": 244,
     "metadata": {},
     "output_type": "execute_result"
    }
   ],
   "source": [
    "a={'fae':123}\n",
    "a"
   ]
  },
  {
   "cell_type": "code",
   "execution_count": 45,
   "metadata": {},
   "outputs": [
    {
     "data": {
      "text/plain": [
       "0.8"
      ]
     },
     "execution_count": 45,
     "metadata": {},
     "output_type": "execute_result"
    }
   ],
   "source": [
    "from textblob import TextBlob\n",
    "a = 'Do pakis smell of curry and shit?'\n",
    "opinion = TextBlob(a)\n",
    "TextBlob(a).sentiment.subjectivity"
   ]
  }
 ],
 "metadata": {
  "colab": {
   "name": "QUORA.ipynb",
   "provenance": [],
   "version": "0.3.2"
  },
  "kernelspec": {
   "display_name": "Python 3",
   "language": "python",
   "name": "python3"
  },
  "language_info": {
   "codemirror_mode": {
    "name": "ipython",
    "version": 3
   },
   "file_extension": ".py",
   "mimetype": "text/x-python",
   "name": "python",
   "nbconvert_exporter": "python",
   "pygments_lexer": "ipython3",
   "version": "3.6.8"
  }
 },
 "nbformat": 4,
 "nbformat_minor": 1
}
